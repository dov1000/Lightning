{
 "cells": [
  {
   "cell_type": "code",
   "execution_count": 1,
   "metadata": {},
   "outputs": [],
   "source": [
    "import numpy as np\n",
    "import pandas as pd\n",
    "import tensorflow as tf\n",
    "from tensorflow import keras\n",
    "#from tensorflow.keras import layers\n",
    "import os\n",
    "from sklearn.model_selection import train_test_split\n",
    "from sklearn import preprocessing"
   ]
  },
  {
   "cell_type": "code",
   "execution_count": 2,
   "metadata": {},
   "outputs": [],
   "source": [
    "#Busco todos los archivos .csv en la carpeta seleccionada\n",
    "path_to_data = './'\n",
    "csv_files = [pos_csv for pos_csv in os.listdir(path_to_data) if pos_csv.endswith('.csv')]"
   ]
  },
  {
   "cell_type": "code",
   "execution_count": 5,
   "metadata": {},
   "outputs": [
    {
     "data": {
      "text/plain": [
       "['20131025000.csv',\n",
       " '20131050000.csv',\n",
       " '20131075000.csv',\n",
       " '20131100000.csv',\n",
       " '20131125000.csv',\n",
       " '20131150000.csv',\n",
       " '20131175000.csv',\n",
       " '20131200000.csv',\n",
       " '20131225000.csv',\n",
       " '2013125000.csv',\n",
       " '20131250000.csv',\n",
       " '20131275000.csv',\n",
       " '20131300000.csv',\n",
       " '20131325000.csv',\n",
       " '20131350000.csv',\n",
       " '20131375000.csv',\n",
       " '20131400000.csv',\n",
       " '20131425000.csv',\n",
       " '20131450000.csv',\n",
       " '20131475000.csv',\n",
       " '2013150000.csv',\n",
       " '20131500000.csv',\n",
       " '2013175000.csv',\n",
       " '20131e+05.csv',\n",
       " '20131e+06.csv',\n",
       " '2013225000.csv',\n",
       " '201325000.csv',\n",
       " '2013250000.csv',\n",
       " '2013275000.csv',\n",
       " '20132e+05.csv',\n",
       " '2013325000.csv',\n",
       " '2013350000.csv',\n",
       " '2013375000.csv',\n",
       " '20133e+05.csv',\n",
       " '2013425000.csv',\n",
       " '2013450000.csv',\n",
       " '2013475000.csv',\n",
       " '20134e+05.csv',\n",
       " '201350000.csv',\n",
       " '2013525000.csv',\n",
       " '2013550000.csv',\n",
       " '2013575000.csv',\n",
       " '20135e+05.csv',\n",
       " '2013625000.csv',\n",
       " '2013650000.csv',\n",
       " '2013675000.csv',\n",
       " '20136e+05.csv',\n",
       " '2013725000.csv',\n",
       " '201375000.csv',\n",
       " '2013750000.csv',\n",
       " '2013775000.csv',\n",
       " '20137e+05.csv',\n",
       " '2013825000.csv',\n",
       " '2013850000.csv',\n",
       " '2013875000.csv',\n",
       " '20138e+05.csv',\n",
       " '2013925000.csv',\n",
       " '2013950000.csv',\n",
       " '2013975000.csv',\n",
       " '20139e+05.csv',\n",
       " '2014_125000.csv',\n",
       " '2014_150000.csv',\n",
       " '2014_175000.csv',\n",
       " '2014_1e+06.csv',\n",
       " '2014_225000.csv',\n",
       " '2014_25000.csv',\n",
       " '2014_250000.csv',\n",
       " '2014_275000.csv',\n",
       " '2014_2e+05.csv',\n",
       " '2014_325000.csv',\n",
       " '2014_350000.csv',\n",
       " '2014_375000.csv',\n",
       " '2014_3e+05.csv',\n",
       " '2014_425000.csv',\n",
       " '2014_450000.csv',\n",
       " '2014_475000.csv',\n",
       " '2014_4e+05.csv',\n",
       " '2014_50000.csv',\n",
       " '2014_525000.csv',\n",
       " '2014_550000.csv',\n",
       " '2014_575000.csv',\n",
       " '2014_5e+05.csv',\n",
       " '2014_625000.csv',\n",
       " '2014_650000.csv',\n",
       " '2014_675000.csv',\n",
       " '2014_6e+05.csv',\n",
       " '2014_725000.csv',\n",
       " '2014_75000.csv',\n",
       " '2014_750000.csv',\n",
       " '2014_775000.csv',\n",
       " '2014_7e+05.csv',\n",
       " '2014_825000.csv',\n",
       " '2014_850000.csv',\n",
       " '2014_875000.csv',\n",
       " '2014_8e+05.csv',\n",
       " '2014_925000.csv',\n",
       " '2014_950000.csv',\n",
       " '2014_975000.csv',\n",
       " '2014_9e+05.csv',\n",
       " '2015_1025000.csv',\n",
       " '2015_1050000.csv',\n",
       " '2015_1075000.csv',\n",
       " '2015_1100000.csv',\n",
       " '2015_1125000.csv',\n",
       " '2015_1150000.csv',\n",
       " '2015_1175000.csv',\n",
       " '2015_1200000.csv',\n",
       " '2015_1225000.csv',\n",
       " '2015_125000.csv',\n",
       " '2015_1250000.csv',\n",
       " '2015_1275000.csv',\n",
       " '2015_1300000.csv',\n",
       " '2015_1325000.csv',\n",
       " '2015_1350000.csv',\n",
       " '2015_1375000.csv',\n",
       " '2015_1400000.csv',\n",
       " '2015_1425000.csv',\n",
       " '2015_1450000.csv',\n",
       " '2015_1475000.csv',\n",
       " '2015_150000.csv',\n",
       " '2015_1500000.csv',\n",
       " '2015_1525000.csv',\n",
       " '2015_1550000.csv',\n",
       " '2015_1575000.csv',\n",
       " '2015_1600000.csv',\n",
       " '2015_1625000.csv',\n",
       " '2015_1650000.csv',\n",
       " '2015_1675000.csv',\n",
       " '2015_1700000.csv',\n",
       " '2015_1725000.csv',\n",
       " '2015_175000.csv',\n",
       " '2015_1750000.csv',\n",
       " '2015_1775000.csv',\n",
       " '2015_1800000.csv',\n",
       " '2015_1825000.csv',\n",
       " '2015_1850000.csv',\n",
       " '2015_1875000.csv',\n",
       " '2015_1900000.csv',\n",
       " '2015_1925000.csv',\n",
       " '2015_1950000.csv',\n",
       " '2015_1975000.csv',\n",
       " '2015_1e+05.csv',\n",
       " '2015_1e+06.csv',\n",
       " '2015_2025000.csv',\n",
       " '2015_2050000.csv',\n",
       " '2015_2075000.csv',\n",
       " '2015_2100000.csv',\n",
       " '2015_2125000.csv',\n",
       " '2015_2150000.csv',\n",
       " '2015_2175000.csv',\n",
       " '2015_2200000.csv',\n",
       " '2015_2225000.csv',\n",
       " '2015_225000.csv',\n",
       " '2015_2250000.csv',\n",
       " '2015_2275000.csv',\n",
       " '2015_2300000.csv',\n",
       " '2015_2325000.csv',\n",
       " '2015_2350000.csv',\n",
       " '2015_2375000.csv',\n",
       " '2015_2400000.csv',\n",
       " '2015_2425000.csv',\n",
       " '2015_2450000.csv',\n",
       " '2015_2475000.csv',\n",
       " '2015_25000.csv',\n",
       " '2015_250000.csv',\n",
       " '2015_2500000.csv',\n",
       " '2015_2525000.csv',\n",
       " '2015_2550000.csv',\n",
       " '2015_2575000.csv',\n",
       " '2015_275000.csv',\n",
       " '2015_2e+05.csv',\n",
       " '2015_2e+06.csv',\n",
       " '2015_325000.csv',\n",
       " '2015_350000.csv',\n",
       " '2015_375000.csv',\n",
       " '2015_3e+05.csv',\n",
       " '2015_425000.csv',\n",
       " '2015_450000.csv',\n",
       " '2015_475000.csv',\n",
       " '2015_4e+05.csv',\n",
       " '2015_50000.csv',\n",
       " '2015_525000.csv',\n",
       " '2015_550000.csv',\n",
       " '2015_575000.csv',\n",
       " '2015_5e+05.csv',\n",
       " '2015_625000.csv',\n",
       " '2015_650000.csv',\n",
       " '2015_675000.csv',\n",
       " '2015_6e+05.csv',\n",
       " '2015_725000.csv',\n",
       " '2015_75000.csv',\n",
       " '2015_750000.csv',\n",
       " '2015_775000.csv',\n",
       " '2015_7e+05.csv',\n",
       " '2015_825000.csv',\n",
       " '2015_850000.csv',\n",
       " '2015_875000.csv',\n",
       " '2015_8e+05.csv',\n",
       " '2015_925000.csv',\n",
       " '2015_950000.csv',\n",
       " '2015_975000.csv',\n",
       " '2015_9e+05.csv',\n",
       " '2016_1025000.csv',\n",
       " '2016_1050000.csv',\n",
       " '2016_1075000.csv',\n",
       " '2016_1100000.csv',\n",
       " '2016_1125000.csv',\n",
       " '2016_1150000.csv',\n",
       " '2016_1175000.csv',\n",
       " '2016_1200000.csv',\n",
       " '2016_1225000.csv',\n",
       " '2016_125000.csv',\n",
       " '2016_1250000.csv',\n",
       " '2016_1275000.csv',\n",
       " '2016_1300000.csv',\n",
       " '2016_1325000.csv',\n",
       " '2016_1350000.csv',\n",
       " '2016_1375000.csv',\n",
       " '2016_1400000.csv',\n",
       " '2016_150000.csv',\n",
       " '2016_175000.csv',\n",
       " '2016_1e+05.csv',\n",
       " '2016_1e+06.csv',\n",
       " '2016_225000.csv',\n",
       " '2016_25000.csv',\n",
       " '2016_250000.csv',\n",
       " '2016_275000.csv',\n",
       " '2016_2e+05.csv',\n",
       " '2016_325000.csv',\n",
       " '2016_350000.csv',\n",
       " '2016_375000.csv',\n",
       " '2016_3e+05.csv',\n",
       " '2016_425000.csv',\n",
       " '2016_450000.csv',\n",
       " '2016_475000.csv',\n",
       " '2016_4e+05.csv',\n",
       " '2016_50000.csv',\n",
       " '2016_525000.csv',\n",
       " '2016_550000.csv',\n",
       " '2016_575000.csv',\n",
       " '2016_5e+05.csv',\n",
       " '2016_625000.csv',\n",
       " '2016_650000.csv',\n",
       " '2016_675000.csv',\n",
       " '2016_6e+05.csv',\n",
       " '2016_725000.csv',\n",
       " '2016_75000.csv',\n",
       " '2016_750000.csv',\n",
       " '2016_775000.csv',\n",
       " '2016_7e+05.csv',\n",
       " '2016_825000.csv',\n",
       " '2016_850000.csv',\n",
       " '2016_875000.csv',\n",
       " '2016_8e+05.csv',\n",
       " '2016_925000.csv',\n",
       " '2016_950000.csv',\n",
       " '2016_975000.csv',\n",
       " '2016_9e+05.csv']"
      ]
     },
     "execution_count": 5,
     "metadata": {},
     "output_type": "execute_result"
    }
   ],
   "source": [
    "#veo todos los archivos\n",
    "csv_files"
   ]
  },
  {
   "cell_type": "code",
   "execution_count": 8,
   "metadata": {},
   "outputs": [],
   "source": [
    "# selecciono solamente tres para rapidez\n",
    "csv_files= csv_files[0:3]"
   ]
  },
  {
   "cell_type": "code",
   "execution_count": 9,
   "metadata": {},
   "outputs": [],
   "source": [
    "#lugar donde está la carpeta\n",
    "data=[]\n",
    "for file in csv_files:\n",
    "    tmp=pd.read_csv(file, engine='python')\n",
    "    data.append(tmp)\n",
    "data=pd.concat(data)"
   ]
  },
  {
   "cell_type": "code",
   "execution_count": 11,
   "metadata": {},
   "outputs": [],
   "source": [
    "#le pongo nombres a las columnas\n",
    "new_col=['dec0_t1', 'dec1_t1', 'dec2_t1', 'dec3_t1', 'dec4_t1', 'dec5_t1','dec6_t1', 'dec7_t1', 'dec8_t1', 'dec9_t1','dir0_t1', 'dir1_t1', 'dir2_t1', 'dir3_t1', 'dir4_t1', 'dir5_t1','dir6_t1', 'dir7_t1', 'dir8_t1', 'dir9_t1','dec0_t2','dec1_t2','dec2_t2', 'dec3_t2', 'dec4_t2', 'dec5_t2', 'dec6_t2', 'dec7_t2','dec8_t2', 'dec9_t2','dir0_t2', 'dir1_t2','dir2_t2', 'dir3_t2', 'dir4_t2', 'dir5_t2', 'dir6_t2', 'dir7_t2','dir8_t2', 'dir9_t2','dec0_t3', 'dec1_t3', 'dec2_t3', 'dec3_t3','dec4_t3', 'dec5_t3', 'dec6_t3', 'dec7_t3', 'dec8_t3', 'dec9_t3','dir0_t3', 'dir1_t3', 'dir2_t3', 'dir3_t3','dir4_t3', 'dir5_t3', 'dir6_t3', 'dir7_t3', 'dir8_t3', 'dir9_t3','prono']"
   ]
  },
  {
   "cell_type": "code",
   "execution_count": 12,
   "metadata": {},
   "outputs": [],
   "source": [
    "data=data[new_col]"
   ]
  },
  {
   "cell_type": "code",
   "execution_count": null,
   "metadata": {},
   "outputs": [],
   "source": [
    "##\n",
    "mn_scaler = preprocessing.MinMaxScaler()\n",
    "d1_fitted=mn_scaler.fit(data.iloc[:,0:30])\n",
    "d1=mn_scaler.transform(data.iloc[:,0:30])\n",
    "d2=data.iloc[:,60]"
   ]
  },
  {
   "cell_type": "code",
   "execution_count": null,
   "metadata": {},
   "outputs": [],
   "source": [
    "#g=mn_scaler.fit(data.iloc[:,0:30]).get_params()"
   ]
  },
  {
   "cell_type": "code",
   "execution_count": null,
   "metadata": {},
   "outputs": [],
   "source": [
    "#data=np.hstack((np.array(d1),np.array(d2).reshape((d2.shape[0],1))))"
   ]
  },
  {
   "cell_type": "code",
   "execution_count": 13,
   "metadata": {},
   "outputs": [],
   "source": [
    "prueb = np.array(data.iloc[:,np.r_[0:30,60]])  #.reshape((len(data),3,11))"
   ]
  },
  {
   "cell_type": "code",
   "execution_count": 14,
   "metadata": {},
   "outputs": [],
   "source": [
    "feat = np.array(prueb)[:,:30]"
   ]
  },
  {
   "cell_type": "code",
   "execution_count": 15,
   "metadata": {},
   "outputs": [],
   "source": [
    "scaler = preprocessing.MinMaxScaler()\n",
    "feat2=scaler.fit_transform(feat)"
   ]
  },
  {
   "cell_type": "code",
   "execution_count": 16,
   "metadata": {},
   "outputs": [],
   "source": [
    "features = feat.reshape((len(prueb),3,10))"
   ]
  },
  {
   "cell_type": "code",
   "execution_count": 17,
   "metadata": {},
   "outputs": [],
   "source": [
    "resul = np.array(prueb)[:,30]"
   ]
  },
  {
   "cell_type": "code",
   "execution_count": 21,
   "metadata": {},
   "outputs": [
    {
     "data": {
      "text/plain": [
       "array([1., 1., 3., ..., 3., 0., 3.])"
      ]
     },
     "execution_count": 21,
     "metadata": {},
     "output_type": "execute_result"
    }
   ],
   "source": [
    "resul"
   ]
  },
  {
   "cell_type": "code",
   "execution_count": 22,
   "metadata": {},
   "outputs": [],
   "source": [
    "tserie=3"
   ]
  },
  {
   "cell_type": "code",
   "execution_count": 23,
   "metadata": {},
   "outputs": [],
   "source": [
    "#x, y = separar_secuencia(prueb,tserie)"
   ]
  },
  {
   "cell_type": "code",
   "execution_count": 33,
   "metadata": {},
   "outputs": [],
   "source": [
    "X_train2, X_test2, y_train2, y_test2 = train_test_split(features, resul, test_size=0.2)"
   ]
  },
  {
   "cell_type": "code",
   "execution_count": 25,
   "metadata": {},
   "outputs": [],
   "source": [
    "y_train2= tf.keras.utils.to_categorical(y_train2,num_classes=4)\n",
    "y_test2 = tf.keras.utils.to_categorical(y_test2,num_classes=4)"
   ]
  },
  {
   "cell_type": "code",
   "execution_count": 34,
   "metadata": {},
   "outputs": [],
   "source": [
    "feat_num=len(X_train2[0][0])"
   ]
  },
  {
   "cell_type": "code",
   "execution_count": 27,
   "metadata": {},
   "outputs": [],
   "source": [
    "model2 = tf.keras.models.load_model('lstm.h5')"
   ]
  },
  {
   "cell_type": "code",
   "execution_count": 35,
   "metadata": {},
   "outputs": [],
   "source": [
    "predictions = model2.predict_classes(X_test2)"
   ]
  },
  {
   "cell_type": "code",
   "execution_count": 36,
   "metadata": {},
   "outputs": [
    {
     "data": {
      "text/plain": [
       "array([3, 3, 3, ..., 3, 3, 3])"
      ]
     },
     "execution_count": 36,
     "metadata": {},
     "output_type": "execute_result"
    }
   ],
   "source": [
    "predictions"
   ]
  },
  {
   "cell_type": "code",
   "execution_count": 31,
   "metadata": {},
   "outputs": [],
   "source": [
    "%matplotlib inline\n",
    "from sklearn.metrics import confusion_matrix\n",
    "import itertools\n",
    "import matplotlib.pyplot as plt"
   ]
  },
  {
   "cell_type": "code",
   "execution_count": 37,
   "metadata": {},
   "outputs": [],
   "source": [
    "cm = confusion_matrix(y_true=y_test2, y_pred=predictions)"
   ]
  },
  {
   "cell_type": "code",
   "execution_count": 39,
   "metadata": {},
   "outputs": [],
   "source": [
    "cm2 = np.round(cm*100 / cm.astype(np.float).sum(axis=1, keepdims=True))"
   ]
  },
  {
   "cell_type": "code",
   "execution_count": 40,
   "metadata": {},
   "outputs": [],
   "source": [
    "def plot_confusion_matrix(cm, classes,\n",
    "                        normalize=False,\n",
    "                        title='Matriz de Confusion',\n",
    "                        cmap=plt.cm.Blues):\n",
    "    \"\"\"\n",
    "    This function prints and plots the confusion matrix.\n",
    "    Normalization can be applied by setting `normalize=True`.\n",
    "    \"\"\"\n",
    "    plt.imshow(cm, interpolation='nearest', cmap=cmap)\n",
    "    plt.title(title)\n",
    "    plt.colorbar()\n",
    "    tick_marks = np.arange(len(classes))\n",
    "    plt.xticks(tick_marks, classes, rotation=45)\n",
    "    plt.yticks(tick_marks, classes)\n",
    "\n",
    "    if normalize:\n",
    "        cm = cm.astype('float') / cm.sum(axis=1)[:, np.newaxis]\n",
    "        print(\"Normalized confusion matrix\")\n",
    "    else:\n",
    "        print('Confusion matrix, without normalization')\n",
    "\n",
    "    print(cm)\n",
    "\n",
    "    thresh = cm.max() / 2.\n",
    "    for i, j in itertools.product(range(cm.shape[0]), range(cm.shape[1])):\n",
    "        plt.text(j, i, cm[i, j],\n",
    "            horizontalalignment=\"center\",\n",
    "            color=\"white\" if cm[i, j] > thresh else \"black\")\n",
    "\n",
    "    plt.tight_layout()\n",
    "    plt.ylabel('True label')\n",
    "    plt.xlabel('Predicted label')"
   ]
  },
  {
   "cell_type": "code",
   "execution_count": 41,
   "metadata": {},
   "outputs": [],
   "source": [
    "cm_plot_labels = ['Rojo','Amarillo','Verde','Sin Riesgo']"
   ]
  },
  {
   "cell_type": "code",
   "execution_count": 42,
   "metadata": {},
   "outputs": [
    {
     "name": "stdout",
     "output_type": "stream",
     "text": [
      "Confusion matrix, without normalization\n",
      "[[10.  0.  0. 90.]\n",
      " [12.  0.  0. 88.]\n",
      " [10.  0.  0. 90.]\n",
      " [ 7.  0.  0. 93.]]\n"
     ]
    },
    {
     "data": {
      "image/png": "[encoded data removed]",
      "text/plain": [
       "<Figure size 432x288 with 2 Axes>"
      ]
     },
     "metadata": {
      "needs_background": "light"
     },
     "output_type": "display_data"
    }
   ],
   "source": [
    "plot_confusion_matrix(cm=cm2, classes=cm_plot_labels, title='Confusion Matrix')"
   ]
  },
  {
   "cell_type": "code",
   "execution_count": null,
   "metadata": {},
   "outputs": [],
   "source": []
  }
 ],
 "metadata": {
  "kernelspec": {
   "display_name": "Python 3",
   "language": "python",
   "name": "python3"
  },
  "language_info": {
   "codemirror_mode": {
    "name": "ipython",
    "version": 3
   },
   "file_extension": ".py",
   "mimetype": "text/x-python",
   "name": "python",
   "nbconvert_exporter": "python",
   "pygments_lexer": "ipython3",
   "version": "3.8.3"
  }
 },
 "nbformat": 4,
 "nbformat_minor": 4
}
