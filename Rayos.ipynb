{
 "cells": [
  {
   "cell_type": "code",
   "execution_count": 1,
   "metadata": {},
   "outputs": [],
   "source": [
    "import numpy as np\n",
    "import pandas as pd"
   ]
  },
  {
   "cell_type": "code",
   "execution_count": 2,
   "metadata": {},
   "outputs": [],
   "source": [
    "import tensorflow as tf\n",
    "from tensorflow import keras\n",
    "from tensorflow.keras import layers"
   ]
  },
  {
   "cell_type": "code",
   "execution_count": 3,
   "metadata": {},
   "outputs": [],
   "source": [
    "import os\n",
    "from sklearn.model_selection import train_test_split\n",
    "from sklearn import preprocessing"
   ]
  },
  {
   "cell_type": "code",
   "execution_count": 4,
   "metadata": {},
   "outputs": [],
   "source": [
    "path_to_data = './'\n",
    "csv_files = [pos_csv for pos_csv in os.listdir(path_to_data) if pos_csv.endswith('.csv')]"
   ]
  },
  {
   "cell_type": "code",
   "execution_count": 5,
   "metadata": {},
   "outputs": [
    {
     "data": {
      "text/plain": [
       "['20131025000.csv',\n",
       " '20131050000.csv',\n",
       " '20131075000.csv',\n",
       " '20131100000.csv',\n",
       " '20131125000.csv',\n",
       " '20131150000.csv',\n",
       " '20131175000.csv',\n",
       " '20131200000.csv',\n",
       " '20131225000.csv',\n",
       " '2013125000.csv',\n",
       " '20131250000.csv',\n",
       " '20131275000.csv',\n",
       " '20131300000.csv',\n",
       " '20131325000.csv',\n",
       " '20131350000.csv',\n",
       " '20131375000.csv',\n",
       " '20131400000.csv',\n",
       " '20131425000.csv',\n",
       " '20131450000.csv',\n",
       " '20131475000.csv',\n",
       " '2013150000.csv',\n",
       " '20131500000.csv',\n",
       " '2013175000.csv',\n",
       " '20131e+05.csv',\n",
       " '20131e+06.csv',\n",
       " '2013225000.csv',\n",
       " '201325000.csv',\n",
       " '2013250000.csv',\n",
       " '2013275000.csv',\n",
       " '20132e+05.csv',\n",
       " '2013325000.csv',\n",
       " '2013350000.csv',\n",
       " '2013375000.csv',\n",
       " '20133e+05.csv',\n",
       " '2013425000.csv',\n",
       " '2013450000.csv',\n",
       " '2013475000.csv',\n",
       " '20134e+05.csv',\n",
       " '201350000.csv',\n",
       " '2013525000.csv',\n",
       " '2013550000.csv',\n",
       " '2013575000.csv',\n",
       " '20135e+05.csv',\n",
       " '2013625000.csv',\n",
       " '2013650000.csv',\n",
       " '2013675000.csv',\n",
       " '20136e+05.csv',\n",
       " '2013725000.csv',\n",
       " '201375000.csv',\n",
       " '2013750000.csv',\n",
       " '2013775000.csv',\n",
       " '20137e+05.csv',\n",
       " '2013825000.csv',\n",
       " '2013850000.csv',\n",
       " '2013875000.csv',\n",
       " '20138e+05.csv',\n",
       " '2013925000.csv',\n",
       " '2013950000.csv',\n",
       " '2013975000.csv',\n",
       " '20139e+05.csv',\n",
       " '2014_125000.csv',\n",
       " '2014_150000.csv',\n",
       " '2014_175000.csv',\n",
       " '2014_1e+06.csv',\n",
       " '2014_225000.csv',\n",
       " '2014_25000.csv',\n",
       " '2014_250000.csv',\n",
       " '2014_275000.csv',\n",
       " '2014_2e+05.csv',\n",
       " '2014_325000.csv',\n",
       " '2014_350000.csv',\n",
       " '2014_375000.csv',\n",
       " '2014_3e+05.csv',\n",
       " '2014_425000.csv',\n",
       " '2014_450000.csv',\n",
       " '2014_475000.csv',\n",
       " '2014_4e+05.csv',\n",
       " '2014_50000.csv',\n",
       " '2014_525000.csv',\n",
       " '2014_550000.csv',\n",
       " '2014_575000.csv',\n",
       " '2014_5e+05.csv',\n",
       " '2014_625000.csv',\n",
       " '2014_650000.csv',\n",
       " '2014_675000.csv',\n",
       " '2014_6e+05.csv',\n",
       " '2014_725000.csv',\n",
       " '2014_75000.csv',\n",
       " '2014_750000.csv',\n",
       " '2014_775000.csv',\n",
       " '2014_7e+05.csv',\n",
       " '2014_825000.csv',\n",
       " '2014_850000.csv',\n",
       " '2014_875000.csv',\n",
       " '2014_8e+05.csv',\n",
       " '2014_925000.csv',\n",
       " '2014_950000.csv',\n",
       " '2014_975000.csv',\n",
       " '2014_9e+05.csv',\n",
       " '2015_1025000.csv',\n",
       " '2015_1050000.csv',\n",
       " '2015_1075000.csv',\n",
       " '2015_1100000.csv',\n",
       " '2015_1125000.csv',\n",
       " '2015_1150000.csv',\n",
       " '2015_1175000.csv',\n",
       " '2015_1200000.csv',\n",
       " '2015_1225000.csv',\n",
       " '2015_125000.csv',\n",
       " '2015_1250000.csv',\n",
       " '2015_1275000.csv',\n",
       " '2015_1300000.csv',\n",
       " '2015_1325000.csv',\n",
       " '2015_1350000.csv',\n",
       " '2015_1375000.csv',\n",
       " '2015_1400000.csv',\n",
       " '2015_1425000.csv',\n",
       " '2015_1450000.csv',\n",
       " '2015_1475000.csv',\n",
       " '2015_150000.csv',\n",
       " '2015_1500000.csv',\n",
       " '2015_1525000.csv',\n",
       " '2015_1550000.csv',\n",
       " '2015_1575000.csv',\n",
       " '2015_1600000.csv',\n",
       " '2015_1625000.csv',\n",
       " '2015_1650000.csv',\n",
       " '2015_1675000.csv',\n",
       " '2015_1700000.csv',\n",
       " '2015_1725000.csv',\n",
       " '2015_175000.csv',\n",
       " '2015_1750000.csv',\n",
       " '2015_1775000.csv',\n",
       " '2015_1800000.csv',\n",
       " '2015_1825000.csv',\n",
       " '2015_1850000.csv',\n",
       " '2015_1875000.csv',\n",
       " '2015_1900000.csv',\n",
       " '2015_1925000.csv',\n",
       " '2015_1950000.csv',\n",
       " '2015_1975000.csv',\n",
       " '2015_1e+05.csv',\n",
       " '2015_1e+06.csv',\n",
       " '2015_2025000.csv',\n",
       " '2015_2050000.csv',\n",
       " '2015_2075000.csv',\n",
       " '2015_2100000.csv',\n",
       " '2015_2125000.csv',\n",
       " '2015_2150000.csv',\n",
       " '2015_2175000.csv',\n",
       " '2015_2200000.csv',\n",
       " '2015_2225000.csv',\n",
       " '2015_225000.csv',\n",
       " '2015_2250000.csv',\n",
       " '2015_2275000.csv',\n",
       " '2015_2300000.csv',\n",
       " '2015_2325000.csv',\n",
       " '2015_2350000.csv',\n",
       " '2015_2375000.csv',\n",
       " '2015_2400000.csv',\n",
       " '2015_2425000.csv',\n",
       " '2015_2450000.csv',\n",
       " '2015_2475000.csv',\n",
       " '2015_25000.csv',\n",
       " '2015_250000.csv',\n",
       " '2015_2500000.csv',\n",
       " '2015_2525000.csv',\n",
       " '2015_2550000.csv',\n",
       " '2015_2575000.csv',\n",
       " '2015_275000.csv',\n",
       " '2015_2e+05.csv',\n",
       " '2015_2e+06.csv',\n",
       " '2015_325000.csv',\n",
       " '2015_350000.csv',\n",
       " '2015_375000.csv',\n",
       " '2015_3e+05.csv',\n",
       " '2015_425000.csv',\n",
       " '2015_450000.csv',\n",
       " '2015_475000.csv',\n",
       " '2015_4e+05.csv',\n",
       " '2015_50000.csv',\n",
       " '2015_525000.csv',\n",
       " '2015_550000.csv',\n",
       " '2015_575000.csv',\n",
       " '2015_5e+05.csv',\n",
       " '2015_625000.csv',\n",
       " '2015_650000.csv',\n",
       " '2015_675000.csv',\n",
       " '2015_6e+05.csv',\n",
       " '2015_725000.csv',\n",
       " '2015_75000.csv',\n",
       " '2015_750000.csv',\n",
       " '2015_775000.csv',\n",
       " '2015_7e+05.csv',\n",
       " '2015_825000.csv',\n",
       " '2015_850000.csv',\n",
       " '2015_875000.csv',\n",
       " '2015_8e+05.csv',\n",
       " '2015_925000.csv',\n",
       " '2015_950000.csv',\n",
       " '2015_975000.csv',\n",
       " '2015_9e+05.csv',\n",
       " '2016_1025000.csv',\n",
       " '2016_1050000.csv',\n",
       " '2016_1075000.csv',\n",
       " '2016_1100000.csv',\n",
       " '2016_1125000.csv',\n",
       " '2016_1150000.csv',\n",
       " '2016_1175000.csv',\n",
       " '2016_1200000.csv',\n",
       " '2016_1225000.csv',\n",
       " '2016_125000.csv',\n",
       " '2016_1250000.csv',\n",
       " '2016_1275000.csv',\n",
       " '2016_1300000.csv',\n",
       " '2016_1325000.csv',\n",
       " '2016_1350000.csv',\n",
       " '2016_1375000.csv',\n",
       " '2016_1400000.csv',\n",
       " '2016_1425000.csv',\n",
       " '2016_1450000.csv',\n",
       " '2016_1475000.csv',\n",
       " '2016_150000.csv',\n",
       " '2016_1500000.csv',\n",
       " '2016_1525000.csv',\n",
       " '2016_1550000.csv',\n",
       " '2016_1575000.csv',\n",
       " '2016_1600000.csv',\n",
       " '2016_1625000.csv',\n",
       " '2016_1650000.csv',\n",
       " '2016_1675000.csv',\n",
       " '2016_1700000.csv',\n",
       " '2016_1725000.csv',\n",
       " '2016_175000.csv',\n",
       " '2016_1750000.csv',\n",
       " '2016_1775000.csv',\n",
       " '2016_1800000.csv',\n",
       " '2016_1825000.csv',\n",
       " '2016_1850000.csv',\n",
       " '2016_1875000.csv',\n",
       " '2016_1900000.csv',\n",
       " '2016_1925000.csv',\n",
       " '2016_1950000.csv',\n",
       " '2016_1975000.csv',\n",
       " '2016_1e+05.csv',\n",
       " '2016_1e+06.csv',\n",
       " '2016_2025000.csv',\n",
       " '2016_225000.csv',\n",
       " '2016_25000.csv',\n",
       " '2016_250000.csv',\n",
       " '2016_275000.csv',\n",
       " '2016_2e+05.csv',\n",
       " '2016_2e+06.csv',\n",
       " '2016_325000.csv',\n",
       " '2016_350000.csv',\n",
       " '2016_375000.csv',\n",
       " '2016_3e+05.csv',\n",
       " '2016_425000.csv',\n",
       " '2016_450000.csv',\n",
       " '2016_475000.csv',\n",
       " '2016_4e+05.csv',\n",
       " '2016_50000.csv',\n",
       " '2016_525000.csv',\n",
       " '2016_550000.csv',\n",
       " '2016_575000.csv',\n",
       " '2016_5e+05.csv',\n",
       " '2016_625000.csv',\n",
       " '2016_650000.csv',\n",
       " '2016_675000.csv',\n",
       " '2016_6e+05.csv',\n",
       " '2016_725000.csv',\n",
       " '2016_75000.csv',\n",
       " '2016_750000.csv',\n",
       " '2016_775000.csv',\n",
       " '2016_7e+05.csv',\n",
       " '2016_825000.csv',\n",
       " '2016_850000.csv',\n",
       " '2016_875000.csv',\n",
       " '2016_8e+05.csv',\n",
       " '2016_925000.csv',\n",
       " '2016_950000.csv',\n",
       " '2016_975000.csv',\n",
       " '2016_9e+05.csv',\n",
       " '201910000.csv',\n",
       " '201920000.csv',\n",
       " '201930000.csv']"
      ]
     },
     "execution_count": 5,
     "metadata": {},
     "output_type": "execute_result"
    }
   ],
   "source": [
    "csv_files"
   ]
  },
  {
   "cell_type": "code",
   "execution_count": 6,
   "metadata": {},
   "outputs": [],
   "source": [
    "data=[]\n",
    "for file in csv_files:\n",
    "    tmp=pd.read_csv(file,engine='python')\n",
    "    data.append(tmp)\n",
    "data=pd.concat(data)"
   ]
  },
  {
   "cell_type": "code",
   "execution_count": null,
   "metadata": {},
   "outputs": [],
   "source": [
    "backup = data"
   ]
  },
  {
   "cell_type": "code",
   "execution_count": null,
   "metadata": {},
   "outputs": [],
   "source": [
    "data.shape"
   ]
  },
  {
   "cell_type": "code",
   "execution_count": null,
   "metadata": {
    "scrolled": true
   },
   "outputs": [],
   "source": [
    "data.columns"
   ]
  },
  {
   "cell_type": "code",
   "execution_count": 46,
   "metadata": {},
   "outputs": [],
   "source": [
    "new_col=['dec0_t1', 'dec1_t1', 'dec2_t1', 'dec3_t1', 'dec4_t1', 'dec5_t1','dec6_t1', 'dec7_t1', 'dec8_t1', 'dec9_t1','dir0_t1', 'dir1_t1', 'dir2_t1', 'dir3_t1', 'dir4_t1', 'dir5_t1','dir6_t1', 'dir7_t1', 'dir8_t1', 'dir9_t1','dec0_t2','dec1_t2','dec2_t2', 'dec3_t2', 'dec4_t2', 'dec5_t2', 'dec6_t2', 'dec7_t2','dec8_t2', 'dec9_t2','dir0_t2', 'dir1_t2','dir2_t2', 'dir3_t2', 'dir4_t2', 'dir5_t2', 'dir6_t2', 'dir7_t2','dir8_t2', 'dir9_t2','dec0_t3', 'dec1_t3', 'dec2_t3', 'dec3_t3','dec4_t3', 'dec5_t3', 'dec6_t3', 'dec7_t3', 'dec8_t3', 'dec9_t3','dir0_t3', 'dir1_t3', 'dir2_t3', 'dir3_t3','dir4_t3', 'dir5_t3', 'dir6_t3', 'dir7_t3', 'dir8_t3', 'dir9_t3','prono']"
   ]
  },
  {
   "cell_type": "code",
   "execution_count": 47,
   "metadata": {},
   "outputs": [
    {
     "data": {
      "text/plain": [
       "(1767297, 61)"
      ]
     },
     "execution_count": 47,
     "metadata": {},
     "output_type": "execute_result"
    }
   ],
   "source": [
    "data.shape"
   ]
  },
  {
   "cell_type": "code",
   "execution_count": 48,
   "metadata": {},
   "outputs": [],
   "source": [
    "data=data[new_col]"
   ]
  },
  {
   "cell_type": "code",
   "execution_count": 11,
   "metadata": {},
   "outputs": [],
   "source": [
    "\n"
   ]
  },
  {
   "cell_type": "code",
   "execution_count": 12,
   "metadata": {},
   "outputs": [],
   "source": [
    "mn_scaler = preprocessing.MinMaxScaler()\n",
    "d1_fitted=mn_scaler.fit(data.iloc[:,0:30])\n",
    "d1=mn_scaler.transform(data.iloc[:,0:30])\n",
    "d2=data.iloc[:,60]"
   ]
  },
  {
   "cell_type": "code",
   "execution_count": 13,
   "metadata": {},
   "outputs": [],
   "source": [
    "g=mn_scaler.fit(data.iloc[:,0:30]).get_params()"
   ]
  },
  {
   "cell_type": "code",
   "execution_count": null,
   "metadata": {},
   "outputs": [],
   "source": [
    "from pickle import dump\n",
    "# save the scaler\n",
    "dump(mn_scaler, open('scaler.pkl', 'wb'))\n",
    "from pickle import load\n",
    "scaler = load(open('scaler.pkl', 'rb'))\n",
    "prueba = scaler.transform(data.iloc[:,0:30])"
   ]
  },
  {
   "cell_type": "code",
   "execution_count": 14,
   "metadata": {},
   "outputs": [],
   "source": [
    "data=np.hstack((np.array(d1),np.array(d2).reshape((d2.shape[0],1))))"
   ]
  },
  {
   "cell_type": "code",
   "execution_count": 15,
   "metadata": {},
   "outputs": [],
   "source": []
  },
  {
   "cell_type": "code",
   "execution_count": 16,
   "metadata": {},
   "outputs": [],
   "source": [
    "X_train, X_test, y_train, y_test = train_test_split(d1, d2, test_size=0.2)"
   ]
  },
  {
   "cell_type": "code",
   "execution_count": 17,
   "metadata": {},
   "outputs": [],
   "source": [
    "y_train = tf.keras.utils.to_categorical(y_train, num_classes=4)"
   ]
  },
  {
   "cell_type": "code",
   "execution_count": 18,
   "metadata": {},
   "outputs": [],
   "source": [
    "y_test = tf.keras.utils.to_categorical(y_test, num_classes=4)"
   ]
  },
  {
   "cell_type": "code",
   "execution_count": 19,
   "metadata": {},
   "outputs": [],
   "source": [
    "#Secuencial"
   ]
  },
  {
   "cell_type": "code",
   "execution_count": 20,
   "metadata": {},
   "outputs": [],
   "source": [
    "model = keras.Sequential()"
   ]
  },
  {
   "cell_type": "code",
   "execution_count": 21,
   "metadata": {},
   "outputs": [],
   "source": [
    "model.add(keras.Input(shape=(30,)))"
   ]
  },
  {
   "cell_type": "code",
   "execution_count": 22,
   "metadata": {},
   "outputs": [],
   "source": [
    "model.add(layers.Dense(2048, activation = 'relu'))\n",
    "model.add(layers.Dropout(0.5))\n",
    "model.add(layers.Dense(512, activation = 'relu'))\n",
    "model.add(layers.Dropout(0.5))\n",
    "model.add(layers.Dense(64, activation = 'relu'))\n",
    "model.add(layers.Dropout(0.3))\n",
    "model.add(layers.Dense(15, activation = 'relu'))\n",
    "model.add(layers.Dropout(0.3))\n",
    "model.add(layers.Dense(4, activation = 'softmax'))"
   ]
  },
  {
   "cell_type": "code",
   "execution_count": 23,
   "metadata": {},
   "outputs": [
    {
     "name": "stdout",
     "output_type": "stream",
     "text": [
      "Model: \"sequential\"\n",
      "_________________________________________________________________\n",
      "Layer (type)                 Output Shape              Param #   \n",
      "=================================================================\n",
      "dense (Dense)                (None, 2048)              63488     \n",
      "_________________________________________________________________\n",
      "dropout (Dropout)            (None, 2048)              0         \n",
      "_________________________________________________________________\n",
      "dense_1 (Dense)              (None, 512)               1049088   \n",
      "_________________________________________________________________\n",
      "dropout_1 (Dropout)          (None, 512)               0         \n",
      "_________________________________________________________________\n",
      "dense_2 (Dense)              (None, 64)                32832     \n",
      "_________________________________________________________________\n",
      "dropout_2 (Dropout)          (None, 64)                0         \n",
      "_________________________________________________________________\n",
      "dense_3 (Dense)              (None, 15)                975       \n",
      "_________________________________________________________________\n",
      "dropout_3 (Dropout)          (None, 15)                0         \n",
      "_________________________________________________________________\n",
      "dense_4 (Dense)              (None, 4)                 64        \n",
      "=================================================================\n",
      "Total params: 1,146,447\n",
      "Trainable params: 1,146,447\n",
      "Non-trainable params: 0\n",
      "_________________________________________________________________\n"
     ]
    }
   ],
   "source": [
    "model.summary()"
   ]
  },
  {
   "cell_type": "code",
   "execution_count": 24,
   "metadata": {},
   "outputs": [],
   "source": [
    "model.compile(optimizer=keras.optimizers.Adam(),\n",
    "             loss=keras.losses.CategoricalCrossentropy(),\n",
    "              metrics=[keras.metrics.CategoricalCrossentropy(),keras.metrics.CategoricalAccuracy(),'accuracy'])"
   ]
  },
  {
   "cell_type": "code",
   "execution_count": 25,
   "metadata": {},
   "outputs": [
    {
     "name": "stdout",
     "output_type": "stream",
     "text": [
      "Epoch 1/30\n",
      "28136/28136 [==============================] - 381s 14ms/step - loss: 0.8377 - categorical_crossentropy: 0.8377 - categorical_accuracy: 0.6580 - accuracy: 0.6580 - val_loss: 0.7867 - val_categorical_crossentropy: 0.7867 - val_categorical_accuracy: 0.6784 - val_accuracy: 0.6784\n",
      "Epoch 2/30\n",
      "28136/28136 [==============================] - 363s 13ms/step - loss: 0.8211 - categorical_crossentropy: 0.8211 - categorical_accuracy: 0.6655 - accuracy: 0.6655 - val_loss: 0.7854 - val_categorical_crossentropy: 0.7854 - val_categorical_accuracy: 0.6761 - val_accuracy: 0.6761\n",
      "Epoch 3/30\n",
      "28136/28136 [==============================] - 331s 12ms/step - loss: 0.8182 - categorical_crossentropy: 0.8182 - categorical_accuracy: 0.6669 - accuracy: 0.6669 - val_loss: 0.7825 - val_categorical_crossentropy: 0.7825 - val_categorical_accuracy: 0.6760 - val_accuracy: 0.6760\n",
      "Epoch 4/30\n",
      "28136/28136 [==============================] - 318s 11ms/step - loss: 0.8168 - categorical_crossentropy: 0.8168 - categorical_accuracy: 0.6676 - accuracy: 0.6676 - val_loss: 0.7819 - val_categorical_crossentropy: 0.7819 - val_categorical_accuracy: 0.6809 - val_accuracy: 0.6809\n",
      "Epoch 5/30\n",
      "28136/28136 [==============================] - 318s 11ms/step - loss: 0.8155 - categorical_crossentropy: 0.8155 - categorical_accuracy: 0.6683 - accuracy: 0.6683 - val_loss: 0.7896 - val_categorical_crossentropy: 0.7896 - val_categorical_accuracy: 0.6805 - val_accuracy: 0.6805\n",
      "Epoch 6/30\n",
      "28136/28136 [==============================] - 319s 11ms/step - loss: 0.8147 - categorical_crossentropy: 0.8147 - categorical_accuracy: 0.6687 - accuracy: 0.6687 - val_loss: 0.7794 - val_categorical_crossentropy: 0.7794 - val_categorical_accuracy: 0.6765 - val_accuracy: 0.6765\n",
      "Epoch 7/30\n",
      "28136/28136 [==============================] - 318s 11ms/step - loss: 0.8143 - categorical_crossentropy: 0.8143 - categorical_accuracy: 0.6689 - accuracy: 0.6689 - val_loss: 0.7812 - val_categorical_crossentropy: 0.7812 - val_categorical_accuracy: 0.6772 - val_accuracy: 0.6772\n",
      "Epoch 8/30\n",
      "28136/28136 [==============================] - 319s 11ms/step - loss: 0.8140 - categorical_crossentropy: 0.8140 - categorical_accuracy: 0.6688 - accuracy: 0.6688 - val_loss: 0.7834 - val_categorical_crossentropy: 0.7834 - val_categorical_accuracy: 0.6802 - val_accuracy: 0.6802\n",
      "Epoch 9/30\n",
      "28136/28136 [==============================] - 321s 11ms/step - loss: 0.8135 - categorical_crossentropy: 0.8135 - categorical_accuracy: 0.6693 - accuracy: 0.6693 - val_loss: 0.7829 - val_categorical_crossentropy: 0.7829 - val_categorical_accuracy: 0.6759 - val_accuracy: 0.6759\n",
      "Epoch 10/30\n",
      "28136/28136 [==============================] - 340s 12ms/step - loss: 0.8128 - categorical_crossentropy: 0.8128 - categorical_accuracy: 0.6694 - accuracy: 0.6694 - val_loss: 0.7797 - val_categorical_crossentropy: 0.7797 - val_categorical_accuracy: 0.6828 - val_accuracy: 0.6828\n",
      "Epoch 11/30\n",
      "28136/28136 [==============================] - 328s 12ms/step - loss: 0.8132 - categorical_crossentropy: 0.8132 - categorical_accuracy: 0.6692 - accuracy: 0.6692 - val_loss: 0.7798 - val_categorical_crossentropy: 0.7798 - val_categorical_accuracy: 0.6782 - val_accuracy: 0.6782\n",
      "Epoch 12/30\n",
      "28136/28136 [==============================] - 318s 11ms/step - loss: 0.8131 - categorical_crossentropy: 0.8131 - categorical_accuracy: 0.6693 - accuracy: 0.6693 - val_loss: 0.7834 - val_categorical_crossentropy: 0.7834 - val_categorical_accuracy: 0.6776 - val_accuracy: 0.6776\n",
      "Epoch 13/30\n",
      "28136/28136 [==============================] - 317s 11ms/step - loss: 0.8126 - categorical_crossentropy: 0.8126 - categorical_accuracy: 0.6694 - accuracy: 0.6694 - val_loss: 0.7799 - val_categorical_crossentropy: 0.7799 - val_categorical_accuracy: 0.6786 - val_accuracy: 0.6786\n",
      "Epoch 14/30\n",
      "28136/28136 [==============================] - 318s 11ms/step - loss: 0.8124 - categorical_crossentropy: 0.8124 - categorical_accuracy: 0.6691 - accuracy: 0.6691 - val_loss: 0.7855 - val_categorical_crossentropy: 0.7855 - val_categorical_accuracy: 0.6799 - val_accuracy: 0.6799\n",
      "Epoch 15/30\n",
      "28136/28136 [==============================] - 324s 12ms/step - loss: 0.8126 - categorical_crossentropy: 0.8126 - categorical_accuracy: 0.6694 - accuracy: 0.6694 - val_loss: 0.7775 - val_categorical_crossentropy: 0.7775 - val_categorical_accuracy: 0.6791 - val_accuracy: 0.6791\n",
      "Epoch 16/30\n",
      "28136/28136 [==============================] - 342s 12ms/step - loss: 0.8123 - categorical_crossentropy: 0.8123 - categorical_accuracy: 0.6698 - accuracy: 0.6698 - val_loss: 0.7771 - val_categorical_crossentropy: 0.7771 - val_categorical_accuracy: 0.6798 - val_accuracy: 0.6798\n",
      "Epoch 17/30\n",
      "28136/28136 [==============================] - 348s 12ms/step - loss: 0.8126 - categorical_crossentropy: 0.8126 - categorical_accuracy: 0.6694 - accuracy: 0.6694 - val_loss: 0.7812 - val_categorical_crossentropy: 0.7812 - val_categorical_accuracy: 0.6815 - val_accuracy: 0.6815\n",
      "Epoch 18/30\n",
      "28136/28136 [==============================] - 349s 12ms/step - loss: 0.8124 - categorical_crossentropy: 0.8124 - categorical_accuracy: 0.6696 - accuracy: 0.6696 - val_loss: 0.7797 - val_categorical_crossentropy: 0.7797 - val_categorical_accuracy: 0.6774 - val_accuracy: 0.6774\n",
      "Epoch 19/30\n",
      "28136/28136 [==============================] - 350s 12ms/step - loss: 0.8125 - categorical_crossentropy: 0.8125 - categorical_accuracy: 0.6688 - accuracy: 0.6688 - val_loss: 0.7788 - val_categorical_crossentropy: 0.7788 - val_categorical_accuracy: 0.6789 - val_accuracy: 0.6789\n",
      "Epoch 20/30\n",
      "28136/28136 [==============================] - 350s 12ms/step - loss: 0.8127 - categorical_crossentropy: 0.8127 - categorical_accuracy: 0.6692 - accuracy: 0.6692 - val_loss: 0.7793 - val_categorical_crossentropy: 0.7793 - val_categorical_accuracy: 0.6780 - val_accuracy: 0.6780\n",
      "Epoch 21/30\n",
      "28136/28136 [==============================] - 351s 12ms/step - loss: 0.8122 - categorical_crossentropy: 0.8122 - categorical_accuracy: 0.6694 - accuracy: 0.6694 - val_loss: 0.7825 - val_categorical_crossentropy: 0.7825 - val_categorical_accuracy: 0.6796 - val_accuracy: 0.6796\n",
      "Epoch 22/30\n",
      "28136/28136 [==============================] - 350s 12ms/step - loss: 0.8124 - categorical_crossentropy: 0.8124 - categorical_accuracy: 0.6699 - accuracy: 0.6699 - val_loss: 0.7782 - val_categorical_crossentropy: 0.7782 - val_categorical_accuracy: 0.6815 - val_accuracy: 0.6815\n",
      "Epoch 23/30\n",
      "28136/28136 [==============================] - 350s 12ms/step - loss: 0.8125 - categorical_crossentropy: 0.8125 - categorical_accuracy: 0.6695 - accuracy: 0.6695 - val_loss: 0.7766 - val_categorical_crossentropy: 0.7766 - val_categorical_accuracy: 0.6792 - val_accuracy: 0.6792\n",
      "Epoch 24/30\n",
      "28136/28136 [==============================] - 349s 12ms/step - loss: 0.8124 - categorical_crossentropy: 0.8124 - categorical_accuracy: 0.6697 - accuracy: 0.6697 - val_loss: 0.7792 - val_categorical_crossentropy: 0.7792 - val_categorical_accuracy: 0.6780 - val_accuracy: 0.6780\n",
      "Epoch 25/30\n",
      "28136/28136 [==============================] - 359s 13ms/step - loss: 0.8127 - categorical_crossentropy: 0.8127 - categorical_accuracy: 0.6695 - accuracy: 0.6695 - val_loss: 0.7776 - val_categorical_crossentropy: 0.7776 - val_categorical_accuracy: 0.6818 - val_accuracy: 0.6818\n",
      "Epoch 26/30\n",
      "28136/28136 [==============================] - 356s 13ms/step - loss: 0.8129 - categorical_crossentropy: 0.8129 - categorical_accuracy: 0.6698 - accuracy: 0.6698 - val_loss: 0.7800 - val_categorical_crossentropy: 0.7800 - val_categorical_accuracy: 0.6801 - val_accuracy: 0.6801\n",
      "Epoch 27/30\n",
      "28136/28136 [==============================] - 363s 13ms/step - loss: 0.8125 - categorical_crossentropy: 0.8125 - categorical_accuracy: 0.6693 - accuracy: 0.6693 - val_loss: 0.7834 - val_categorical_crossentropy: 0.7834 - val_categorical_accuracy: 0.6786 - val_accuracy: 0.6786\n",
      "Epoch 28/30\n",
      "28136/28136 [==============================] - 351s 12ms/step - loss: 0.8131 - categorical_crossentropy: 0.8131 - categorical_accuracy: 0.6692 - accuracy: 0.6692 - val_loss: 0.7792 - val_categorical_crossentropy: 0.7792 - val_categorical_accuracy: 0.6805 - val_accuracy: 0.6805\n",
      "Epoch 29/30\n",
      "28136/28136 [==============================] - 361s 13ms/step - loss: 0.8132 - categorical_crossentropy: 0.8132 - categorical_accuracy: 0.6693 - accuracy: 0.6693 - val_loss: 0.7777 - val_categorical_crossentropy: 0.7777 - val_categorical_accuracy: 0.6815 - val_accuracy: 0.6815\n",
      "Epoch 30/30\n",
      "28136/28136 [==============================] - 393s 14ms/step - loss: 0.8128 - categorical_crossentropy: 0.8128 - categorical_accuracy: 0.6697 - accuracy: 0.6697 - val_loss: 0.7800 - val_categorical_crossentropy: 0.7800 - val_categorical_accuracy: 0.6798 - val_accuracy: 0.6798\n"
     ]
    }
   ],
   "source": [
    "history = model.fit(X_train,y_train,\n",
    "          batch_size=60,\n",
    "          validation_split=0.2,\n",
    "          epochs=30)"
   ]
  },
  {
   "cell_type": "code",
   "execution_count": 26,
   "metadata": {
    "scrolled": true
   },
   "outputs": [
    {
     "name": "stdout",
     "output_type": "stream",
     "text": [
      "35170/35170 [==============================] - 63s 2ms/step - loss: 0.7824 - categorical_crossentropy: 0.7824 - categorical_accuracy: 0.6782 - accuracy: 0.6782\n"
     ]
    }
   ],
   "source": [
    "results = model.evaluate(X_test, y_test, batch_size=15)"
   ]
  },
  {
   "cell_type": "code",
   "execution_count": 27,
   "metadata": {},
   "outputs": [],
   "source": [
    "model.save('dir_ff.h5')"
   ]
  },
  {
   "cell_type": "code",
   "execution_count": 28,
   "metadata": {},
   "outputs": [
    {
     "name": "stdout",
     "output_type": "stream",
     "text": [
      "WARNING:tensorflow:From <ipython-input-28-fddd5d0ad77b>:1: Sequential.predict_classes (from tensorflow.python.keras.engine.sequential) is deprecated and will be removed after 2021-01-01.\n",
      "Instructions for updating:\n",
      "Please use instead:* `np.argmax(model.predict(x), axis=-1)`,   if your model does multi-class classification   (e.g. if it uses a `softmax` last-layer activation).* `(model.predict(x) > 0.5).astype(\"int32\")`,   if your model does binary classification   (e.g. if it uses a `sigmoid` last-layer activation).\n"
     ]
    }
   ],
   "source": [
    "pred=model.predict_classes(X_test)"
   ]
  },
  {
   "cell_type": "code",
   "execution_count": 63,
   "metadata": {},
   "outputs": [
    {
     "data": {
      "text/plain": [
       "23259"
      ]
     },
     "execution_count": 63,
     "metadata": {},
     "output_type": "execute_result"
    }
   ],
   "source": [
    "len(X_train)"
   ]
  },
  {
   "cell_type": "code",
   "execution_count": 64,
   "metadata": {},
   "outputs": [],
   "source": [
    "from sklearn.metrics import classification_report, confusion_matrix"
   ]
  },
  {
   "cell_type": "code",
   "execution_count": 65,
   "metadata": {},
   "outputs": [
    {
     "data": {
      "text/plain": [
       "5815"
      ]
     },
     "execution_count": 65,
     "metadata": {},
     "output_type": "execute_result"
    }
   ],
   "source": [
    "len(y_test)"
   ]
  },
  {
   "cell_type": "code",
   "execution_count": 66,
   "metadata": {},
   "outputs": [
    {
     "ename": "ValueError",
     "evalue": "Classification metrics can't handle a mix of multiclass and multilabel-indicator targets",
     "output_type": "error",
     "traceback": [
      "\u001b[0;31m---------------------------------------------------------------------------\u001b[0m",
      "\u001b[0;31mValueError\u001b[0m                                Traceback (most recent call last)",
      "\u001b[0;32m<ipython-input-66-afadbc4c0e4b>\u001b[0m in \u001b[0;36m<module>\u001b[0;34m\u001b[0m\n\u001b[0;32m----> 1\u001b[0;31m \u001b[0mprint\u001b[0m\u001b[0;34m(\u001b[0m\u001b[0mconfusion_matrix\u001b[0m\u001b[0;34m(\u001b[0m\u001b[0mpred\u001b[0m\u001b[0;34m,\u001b[0m \u001b[0my_test\u001b[0m\u001b[0;34m)\u001b[0m\u001b[0;34m)\u001b[0m\u001b[0;34m\u001b[0m\u001b[0;34m\u001b[0m\u001b[0m\n\u001b[0m",
      "\u001b[0;32m~/anaconda2/envs/pyhton3/lib/python3.8/site-packages/sklearn/utils/validation.py\u001b[0m in \u001b[0;36minner_f\u001b[0;34m(*args, **kwargs)\u001b[0m\n\u001b[1;32m     71\u001b[0m                           FutureWarning)\n\u001b[1;32m     72\u001b[0m         \u001b[0mkwargs\u001b[0m\u001b[0;34m.\u001b[0m\u001b[0mupdate\u001b[0m\u001b[0;34m(\u001b[0m\u001b[0;34m{\u001b[0m\u001b[0mk\u001b[0m\u001b[0;34m:\u001b[0m \u001b[0marg\u001b[0m \u001b[0;32mfor\u001b[0m \u001b[0mk\u001b[0m\u001b[0;34m,\u001b[0m \u001b[0marg\u001b[0m \u001b[0;32min\u001b[0m \u001b[0mzip\u001b[0m\u001b[0;34m(\u001b[0m\u001b[0msig\u001b[0m\u001b[0;34m.\u001b[0m\u001b[0mparameters\u001b[0m\u001b[0;34m,\u001b[0m \u001b[0margs\u001b[0m\u001b[0;34m)\u001b[0m\u001b[0;34m}\u001b[0m\u001b[0;34m)\u001b[0m\u001b[0;34m\u001b[0m\u001b[0;34m\u001b[0m\u001b[0m\n\u001b[0;32m---> 73\u001b[0;31m         \u001b[0;32mreturn\u001b[0m \u001b[0mf\u001b[0m\u001b[0;34m(\u001b[0m\u001b[0;34m**\u001b[0m\u001b[0mkwargs\u001b[0m\u001b[0;34m)\u001b[0m\u001b[0;34m\u001b[0m\u001b[0;34m\u001b[0m\u001b[0m\n\u001b[0m\u001b[1;32m     74\u001b[0m     \u001b[0;32mreturn\u001b[0m \u001b[0minner_f\u001b[0m\u001b[0;34m\u001b[0m\u001b[0;34m\u001b[0m\u001b[0m\n\u001b[1;32m     75\u001b[0m \u001b[0;34m\u001b[0m\u001b[0m\n",
      "\u001b[0;32m~/anaconda2/envs/pyhton3/lib/python3.8/site-packages/sklearn/metrics/_classification.py\u001b[0m in \u001b[0;36mconfusion_matrix\u001b[0;34m(y_true, y_pred, labels, sample_weight, normalize)\u001b[0m\n\u001b[1;32m    274\u001b[0m \u001b[0;34m\u001b[0m\u001b[0m\n\u001b[1;32m    275\u001b[0m     \"\"\"\n\u001b[0;32m--> 276\u001b[0;31m     \u001b[0my_type\u001b[0m\u001b[0;34m,\u001b[0m \u001b[0my_true\u001b[0m\u001b[0;34m,\u001b[0m \u001b[0my_pred\u001b[0m \u001b[0;34m=\u001b[0m \u001b[0m_check_targets\u001b[0m\u001b[0;34m(\u001b[0m\u001b[0my_true\u001b[0m\u001b[0;34m,\u001b[0m \u001b[0my_pred\u001b[0m\u001b[0;34m)\u001b[0m\u001b[0;34m\u001b[0m\u001b[0;34m\u001b[0m\u001b[0m\n\u001b[0m\u001b[1;32m    277\u001b[0m     \u001b[0;32mif\u001b[0m \u001b[0my_type\u001b[0m \u001b[0;32mnot\u001b[0m \u001b[0;32min\u001b[0m \u001b[0;34m(\u001b[0m\u001b[0;34m\"binary\"\u001b[0m\u001b[0;34m,\u001b[0m \u001b[0;34m\"multiclass\"\u001b[0m\u001b[0;34m)\u001b[0m\u001b[0;34m:\u001b[0m\u001b[0;34m\u001b[0m\u001b[0;34m\u001b[0m\u001b[0m\n\u001b[1;32m    278\u001b[0m         \u001b[0;32mraise\u001b[0m \u001b[0mValueError\u001b[0m\u001b[0;34m(\u001b[0m\u001b[0;34m\"%s is not supported\"\u001b[0m \u001b[0;34m%\u001b[0m \u001b[0my_type\u001b[0m\u001b[0;34m)\u001b[0m\u001b[0;34m\u001b[0m\u001b[0;34m\u001b[0m\u001b[0m\n",
      "\u001b[0;32m~/anaconda2/envs/pyhton3/lib/python3.8/site-packages/sklearn/metrics/_classification.py\u001b[0m in \u001b[0;36m_check_targets\u001b[0;34m(y_true, y_pred)\u001b[0m\n\u001b[1;32m     88\u001b[0m \u001b[0;34m\u001b[0m\u001b[0m\n\u001b[1;32m     89\u001b[0m     \u001b[0;32mif\u001b[0m \u001b[0mlen\u001b[0m\u001b[0;34m(\u001b[0m\u001b[0my_type\u001b[0m\u001b[0;34m)\u001b[0m \u001b[0;34m>\u001b[0m \u001b[0;36m1\u001b[0m\u001b[0;34m:\u001b[0m\u001b[0;34m\u001b[0m\u001b[0;34m\u001b[0m\u001b[0m\n\u001b[0;32m---> 90\u001b[0;31m         raise ValueError(\"Classification metrics can't handle a mix of {0} \"\n\u001b[0m\u001b[1;32m     91\u001b[0m                          \"and {1} targets\".format(type_true, type_pred))\n\u001b[1;32m     92\u001b[0m \u001b[0;34m\u001b[0m\u001b[0m\n",
      "\u001b[0;31mValueError\u001b[0m: Classification metrics can't handle a mix of multiclass and multilabel-indicator targets"
     ]
    }
   ],
   "source": [
    "print(confusion_matrix(pred, y_test))"
   ]
  },
  {
   "cell_type": "code",
   "execution_count": 67,
   "metadata": {},
   "outputs": [
    {
     "ename": "ValueError",
     "evalue": "Classification metrics can't handle a mix of multiclass and multilabel-indicator targets",
     "output_type": "error",
     "traceback": [
      "\u001b[0;31m---------------------------------------------------------------------------\u001b[0m",
      "\u001b[0;31mValueError\u001b[0m                                Traceback (most recent call last)",
      "\u001b[0;32m<ipython-input-67-c5ee9ac2483f>\u001b[0m in \u001b[0;36m<module>\u001b[0;34m\u001b[0m\n\u001b[0;32m----> 1\u001b[0;31m \u001b[0mprint\u001b[0m\u001b[0;34m(\u001b[0m\u001b[0mclassification_report\u001b[0m\u001b[0;34m(\u001b[0m\u001b[0mpred\u001b[0m\u001b[0;34m,\u001b[0m \u001b[0my_test\u001b[0m\u001b[0;34m,\u001b[0m \u001b[0mtarget_names\u001b[0m\u001b[0;34m=\u001b[0m\u001b[0;34m[\u001b[0m\u001b[0;34m'Rojo'\u001b[0m\u001b[0;34m,\u001b[0m\u001b[0;34m'Amarillo'\u001b[0m\u001b[0;34m,\u001b[0m\u001b[0;34m'Verde'\u001b[0m\u001b[0;34m,\u001b[0m\u001b[0;34m'Sin Alerta'\u001b[0m\u001b[0;34m]\u001b[0m\u001b[0;34m)\u001b[0m\u001b[0;34m)\u001b[0m\u001b[0;34m\u001b[0m\u001b[0;34m\u001b[0m\u001b[0m\n\u001b[0m",
      "\u001b[0;32m~/anaconda2/envs/pyhton3/lib/python3.8/site-packages/sklearn/utils/validation.py\u001b[0m in \u001b[0;36minner_f\u001b[0;34m(*args, **kwargs)\u001b[0m\n\u001b[1;32m     71\u001b[0m                           FutureWarning)\n\u001b[1;32m     72\u001b[0m         \u001b[0mkwargs\u001b[0m\u001b[0;34m.\u001b[0m\u001b[0mupdate\u001b[0m\u001b[0;34m(\u001b[0m\u001b[0;34m{\u001b[0m\u001b[0mk\u001b[0m\u001b[0;34m:\u001b[0m \u001b[0marg\u001b[0m \u001b[0;32mfor\u001b[0m \u001b[0mk\u001b[0m\u001b[0;34m,\u001b[0m \u001b[0marg\u001b[0m \u001b[0;32min\u001b[0m \u001b[0mzip\u001b[0m\u001b[0;34m(\u001b[0m\u001b[0msig\u001b[0m\u001b[0;34m.\u001b[0m\u001b[0mparameters\u001b[0m\u001b[0;34m,\u001b[0m \u001b[0margs\u001b[0m\u001b[0;34m)\u001b[0m\u001b[0;34m}\u001b[0m\u001b[0;34m)\u001b[0m\u001b[0;34m\u001b[0m\u001b[0;34m\u001b[0m\u001b[0m\n\u001b[0;32m---> 73\u001b[0;31m         \u001b[0;32mreturn\u001b[0m \u001b[0mf\u001b[0m\u001b[0;34m(\u001b[0m\u001b[0;34m**\u001b[0m\u001b[0mkwargs\u001b[0m\u001b[0;34m)\u001b[0m\u001b[0;34m\u001b[0m\u001b[0;34m\u001b[0m\u001b[0m\n\u001b[0m\u001b[1;32m     74\u001b[0m     \u001b[0;32mreturn\u001b[0m \u001b[0minner_f\u001b[0m\u001b[0;34m\u001b[0m\u001b[0;34m\u001b[0m\u001b[0m\n\u001b[1;32m     75\u001b[0m \u001b[0;34m\u001b[0m\u001b[0m\n",
      "\u001b[0;32m~/anaconda2/envs/pyhton3/lib/python3.8/site-packages/sklearn/metrics/_classification.py\u001b[0m in \u001b[0;36mclassification_report\u001b[0;34m(y_true, y_pred, labels, target_names, sample_weight, digits, output_dict, zero_division)\u001b[0m\n\u001b[1;32m   1927\u001b[0m     \"\"\"\n\u001b[1;32m   1928\u001b[0m \u001b[0;34m\u001b[0m\u001b[0m\n\u001b[0;32m-> 1929\u001b[0;31m     \u001b[0my_type\u001b[0m\u001b[0;34m,\u001b[0m \u001b[0my_true\u001b[0m\u001b[0;34m,\u001b[0m \u001b[0my_pred\u001b[0m \u001b[0;34m=\u001b[0m \u001b[0m_check_targets\u001b[0m\u001b[0;34m(\u001b[0m\u001b[0my_true\u001b[0m\u001b[0;34m,\u001b[0m \u001b[0my_pred\u001b[0m\u001b[0;34m)\u001b[0m\u001b[0;34m\u001b[0m\u001b[0;34m\u001b[0m\u001b[0m\n\u001b[0m\u001b[1;32m   1930\u001b[0m \u001b[0;34m\u001b[0m\u001b[0m\n\u001b[1;32m   1931\u001b[0m     \u001b[0mlabels_given\u001b[0m \u001b[0;34m=\u001b[0m \u001b[0;32mTrue\u001b[0m\u001b[0;34m\u001b[0m\u001b[0;34m\u001b[0m\u001b[0m\n",
      "\u001b[0;32m~/anaconda2/envs/pyhton3/lib/python3.8/site-packages/sklearn/metrics/_classification.py\u001b[0m in \u001b[0;36m_check_targets\u001b[0;34m(y_true, y_pred)\u001b[0m\n\u001b[1;32m     88\u001b[0m \u001b[0;34m\u001b[0m\u001b[0m\n\u001b[1;32m     89\u001b[0m     \u001b[0;32mif\u001b[0m \u001b[0mlen\u001b[0m\u001b[0;34m(\u001b[0m\u001b[0my_type\u001b[0m\u001b[0;34m)\u001b[0m \u001b[0;34m>\u001b[0m \u001b[0;36m1\u001b[0m\u001b[0;34m:\u001b[0m\u001b[0;34m\u001b[0m\u001b[0;34m\u001b[0m\u001b[0m\n\u001b[0;32m---> 90\u001b[0;31m         raise ValueError(\"Classification metrics can't handle a mix of {0} \"\n\u001b[0m\u001b[1;32m     91\u001b[0m                          \"and {1} targets\".format(type_true, type_pred))\n\u001b[1;32m     92\u001b[0m \u001b[0;34m\u001b[0m\u001b[0m\n",
      "\u001b[0;31mValueError\u001b[0m: Classification metrics can't handle a mix of multiclass and multilabel-indicator targets"
     ]
    }
   ],
   "source": [
    "print(classification_report(pred, y_test, target_names=['Rojo','Amarillo','Verde','Sin Alerta']))"
   ]
  },
  {
   "cell_type": "code",
   "execution_count": null,
   "metadata": {},
   "outputs": [],
   "source": []
  },
  {
   "cell_type": "code",
   "execution_count": null,
   "metadata": {},
   "outputs": [],
   "source": [
    "#LSTM"
   ]
  },
  {
   "cell_type": "code",
   "execution_count": 21,
   "metadata": {},
   "outputs": [],
   "source": [
    "prueb = np.array(data.iloc[:,np.r_[0:30,60]])  #.reshape((len(data),3,11))"
   ]
  },
  {
   "cell_type": "code",
   "execution_count": 8,
   "metadata": {},
   "outputs": [
    {
     "data": {
      "text/html": [
       "<div>\n",
       "<style scoped>\n",
       "    .dataframe tbody tr th:only-of-type {\n",
       "        vertical-align: middle;\n",
       "    }\n",
       "\n",
       "    .dataframe tbody tr th {\n",
       "        vertical-align: top;\n",
       "    }\n",
       "\n",
       "    .dataframe thead th {\n",
       "        text-align: right;\n",
       "    }\n",
       "</style>\n",
       "<table border=\"1\" class=\"dataframe\">\n",
       "  <thead>\n",
       "    <tr style=\"text-align: right;\">\n",
       "      <th></th>\n",
       "      <th>dec0_t1</th>\n",
       "      <th>dec1_t1</th>\n",
       "      <th>dec2_t1</th>\n",
       "      <th>dec3_t1</th>\n",
       "      <th>dec4_t1</th>\n",
       "      <th>dec5_t1</th>\n",
       "      <th>dec6_t1</th>\n",
       "      <th>dec7_t1</th>\n",
       "      <th>dec8_t1</th>\n",
       "      <th>dec9_t1</th>\n",
       "      <th>...</th>\n",
       "      <th>dec1_t3</th>\n",
       "      <th>dec2_t3</th>\n",
       "      <th>dec3_t3</th>\n",
       "      <th>dec4_t3</th>\n",
       "      <th>dec5_t3</th>\n",
       "      <th>dec6_t3</th>\n",
       "      <th>dec7_t3</th>\n",
       "      <th>dec8_t3</th>\n",
       "      <th>dec9_t3</th>\n",
       "      <th>prono</th>\n",
       "    </tr>\n",
       "  </thead>\n",
       "  <tbody>\n",
       "    <tr>\n",
       "      <th>0</th>\n",
       "      <td>5926.996460</td>\n",
       "      <td>9517.160397</td>\n",
       "      <td>10490.669754</td>\n",
       "      <td>11739.397447</td>\n",
       "      <td>12710.114387</td>\n",
       "      <td>14200.004984</td>\n",
       "      <td>18369.333804</td>\n",
       "      <td>23551.636196</td>\n",
       "      <td>26820.764047</td>\n",
       "      <td>72424.051979</td>\n",
       "      <td>...</td>\n",
       "      <td>10587.157885</td>\n",
       "      <td>12087.533780</td>\n",
       "      <td>14281.108256</td>\n",
       "      <td>16418.512582</td>\n",
       "      <td>19527.570826</td>\n",
       "      <td>22903.055310</td>\n",
       "      <td>26032.309771</td>\n",
       "      <td>84585.129694</td>\n",
       "      <td>161593.051391</td>\n",
       "      <td>1</td>\n",
       "    </tr>\n",
       "    <tr>\n",
       "      <th>1</th>\n",
       "      <td>7262.953521</td>\n",
       "      <td>9881.425786</td>\n",
       "      <td>10484.095844</td>\n",
       "      <td>11582.931967</td>\n",
       "      <td>11980.319762</td>\n",
       "      <td>12382.848240</td>\n",
       "      <td>13233.086272</td>\n",
       "      <td>14540.372500</td>\n",
       "      <td>14931.002438</td>\n",
       "      <td>16951.665190</td>\n",
       "      <td>...</td>\n",
       "      <td>10495.042351</td>\n",
       "      <td>12010.173469</td>\n",
       "      <td>13731.304482</td>\n",
       "      <td>14636.590003</td>\n",
       "      <td>15164.543965</td>\n",
       "      <td>16214.730779</td>\n",
       "      <td>16629.792943</td>\n",
       "      <td>17451.973164</td>\n",
       "      <td>18780.431555</td>\n",
       "      <td>1</td>\n",
       "    </tr>\n",
       "    <tr>\n",
       "      <th>2</th>\n",
       "      <td>3175.602652</td>\n",
       "      <td>16410.410101</td>\n",
       "      <td>17318.083564</td>\n",
       "      <td>18100.570182</td>\n",
       "      <td>18703.325487</td>\n",
       "      <td>19425.074064</td>\n",
       "      <td>20508.666865</td>\n",
       "      <td>21473.258592</td>\n",
       "      <td>23273.297076</td>\n",
       "      <td>29819.595814</td>\n",
       "      <td>...</td>\n",
       "      <td>16219.485810</td>\n",
       "      <td>17477.593824</td>\n",
       "      <td>18562.471192</td>\n",
       "      <td>19231.774609</td>\n",
       "      <td>20167.056824</td>\n",
       "      <td>21084.100234</td>\n",
       "      <td>23829.604203</td>\n",
       "      <td>29776.699018</td>\n",
       "      <td>32366.856529</td>\n",
       "      <td>3</td>\n",
       "    </tr>\n",
       "    <tr>\n",
       "      <th>3</th>\n",
       "      <td>10583.312696</td>\n",
       "      <td>11800.214416</td>\n",
       "      <td>19149.429505</td>\n",
       "      <td>38129.007942</td>\n",
       "      <td>48643.032990</td>\n",
       "      <td>265946.486504</td>\n",
       "      <td>269465.491783</td>\n",
       "      <td>270040.557559</td>\n",
       "      <td>272205.027632</td>\n",
       "      <td>295212.062323</td>\n",
       "      <td>...</td>\n",
       "      <td>12120.032184</td>\n",
       "      <td>24715.833289</td>\n",
       "      <td>34372.215244</td>\n",
       "      <td>41779.273960</td>\n",
       "      <td>163110.025847</td>\n",
       "      <td>269381.314922</td>\n",
       "      <td>270341.534649</td>\n",
       "      <td>273309.209320</td>\n",
       "      <td>294197.074279</td>\n",
       "      <td>2</td>\n",
       "    </tr>\n",
       "    <tr>\n",
       "      <th>4</th>\n",
       "      <td>3525.697076</td>\n",
       "      <td>4992.158320</td>\n",
       "      <td>8594.421614</td>\n",
       "      <td>12739.107607</td>\n",
       "      <td>12943.589181</td>\n",
       "      <td>14344.607527</td>\n",
       "      <td>14893.924539</td>\n",
       "      <td>15601.123705</td>\n",
       "      <td>18868.633878</td>\n",
       "      <td>65003.738033</td>\n",
       "      <td>...</td>\n",
       "      <td>4047.006622</td>\n",
       "      <td>4897.798012</td>\n",
       "      <td>7499.723128</td>\n",
       "      <td>11369.332766</td>\n",
       "      <td>12848.154319</td>\n",
       "      <td>14371.173618</td>\n",
       "      <td>15995.910795</td>\n",
       "      <td>64920.090516</td>\n",
       "      <td>298981.550030</td>\n",
       "      <td>0</td>\n",
       "    </tr>\n",
       "    <tr>\n",
       "      <th>...</th>\n",
       "      <td>...</td>\n",
       "      <td>...</td>\n",
       "      <td>...</td>\n",
       "      <td>...</td>\n",
       "      <td>...</td>\n",
       "      <td>...</td>\n",
       "      <td>...</td>\n",
       "      <td>...</td>\n",
       "      <td>...</td>\n",
       "      <td>...</td>\n",
       "      <td>...</td>\n",
       "      <td>...</td>\n",
       "      <td>...</td>\n",
       "      <td>...</td>\n",
       "      <td>...</td>\n",
       "      <td>...</td>\n",
       "      <td>...</td>\n",
       "      <td>...</td>\n",
       "      <td>...</td>\n",
       "      <td>...</td>\n",
       "      <td>...</td>\n",
       "    </tr>\n",
       "    <tr>\n",
       "      <th>24954</th>\n",
       "      <td>6287.305189</td>\n",
       "      <td>10813.578901</td>\n",
       "      <td>32055.993018</td>\n",
       "      <td>54810.770153</td>\n",
       "      <td>60249.233753</td>\n",
       "      <td>62927.018442</td>\n",
       "      <td>150693.251795</td>\n",
       "      <td>152772.573803</td>\n",
       "      <td>166654.338521</td>\n",
       "      <td>270298.385553</td>\n",
       "      <td>...</td>\n",
       "      <td>2737.531919</td>\n",
       "      <td>4752.974198</td>\n",
       "      <td>9962.937503</td>\n",
       "      <td>30404.532625</td>\n",
       "      <td>43382.643225</td>\n",
       "      <td>54568.131804</td>\n",
       "      <td>63259.557554</td>\n",
       "      <td>151821.711197</td>\n",
       "      <td>184761.842614</td>\n",
       "      <td>0</td>\n",
       "    </tr>\n",
       "    <tr>\n",
       "      <th>24955</th>\n",
       "      <td>182621.279354</td>\n",
       "      <td>188542.388137</td>\n",
       "      <td>195758.276565</td>\n",
       "      <td>205152.743846</td>\n",
       "      <td>215515.903629</td>\n",
       "      <td>225535.151566</td>\n",
       "      <td>289570.743499</td>\n",
       "      <td>299239.698845</td>\n",
       "      <td>300710.091514</td>\n",
       "      <td>317663.202854</td>\n",
       "      <td>...</td>\n",
       "      <td>188161.940917</td>\n",
       "      <td>192933.090702</td>\n",
       "      <td>210415.555825</td>\n",
       "      <td>215753.935711</td>\n",
       "      <td>227658.919358</td>\n",
       "      <td>264174.223402</td>\n",
       "      <td>298907.842048</td>\n",
       "      <td>301662.437817</td>\n",
       "      <td>308839.364005</td>\n",
       "      <td>3</td>\n",
       "    </tr>\n",
       "    <tr>\n",
       "      <th>24956</th>\n",
       "      <td>153459.446445</td>\n",
       "      <td>164677.874558</td>\n",
       "      <td>166968.298008</td>\n",
       "      <td>170395.328363</td>\n",
       "      <td>224682.321215</td>\n",
       "      <td>234429.822035</td>\n",
       "      <td>243004.661533</td>\n",
       "      <td>245106.787454</td>\n",
       "      <td>247547.247916</td>\n",
       "      <td>249541.581083</td>\n",
       "      <td>...</td>\n",
       "      <td>165254.076819</td>\n",
       "      <td>167732.879404</td>\n",
       "      <td>173986.527127</td>\n",
       "      <td>225338.093684</td>\n",
       "      <td>235199.270492</td>\n",
       "      <td>243670.227650</td>\n",
       "      <td>247017.782075</td>\n",
       "      <td>249062.752814</td>\n",
       "      <td>253843.342943</td>\n",
       "      <td>3</td>\n",
       "    </tr>\n",
       "    <tr>\n",
       "      <th>24957</th>\n",
       "      <td>393.227987</td>\n",
       "      <td>4410.293282</td>\n",
       "      <td>7057.964229</td>\n",
       "      <td>8840.844906</td>\n",
       "      <td>12018.527798</td>\n",
       "      <td>18830.796585</td>\n",
       "      <td>36021.399735</td>\n",
       "      <td>47960.402999</td>\n",
       "      <td>52012.436405</td>\n",
       "      <td>55645.053441</td>\n",
       "      <td>...</td>\n",
       "      <td>5953.177117</td>\n",
       "      <td>10399.356552</td>\n",
       "      <td>14108.832545</td>\n",
       "      <td>19444.462964</td>\n",
       "      <td>32898.384324</td>\n",
       "      <td>44093.928723</td>\n",
       "      <td>47150.982477</td>\n",
       "      <td>50998.669568</td>\n",
       "      <td>60719.020826</td>\n",
       "      <td>0</td>\n",
       "    </tr>\n",
       "    <tr>\n",
       "      <th>24958</th>\n",
       "      <td>48436.592801</td>\n",
       "      <td>55450.736931</td>\n",
       "      <td>58987.515054</td>\n",
       "      <td>62919.319456</td>\n",
       "      <td>71776.373007</td>\n",
       "      <td>78311.529701</td>\n",
       "      <td>81013.976759</td>\n",
       "      <td>82842.659596</td>\n",
       "      <td>85692.021120</td>\n",
       "      <td>88500.723419</td>\n",
       "      <td>...</td>\n",
       "      <td>50364.780671</td>\n",
       "      <td>54605.741499</td>\n",
       "      <td>57970.308718</td>\n",
       "      <td>64912.184081</td>\n",
       "      <td>74874.121419</td>\n",
       "      <td>77723.540551</td>\n",
       "      <td>80590.824576</td>\n",
       "      <td>82915.812588</td>\n",
       "      <td>86156.507124</td>\n",
       "      <td>3</td>\n",
       "    </tr>\n",
       "  </tbody>\n",
       "</table>\n",
       "<p>3759674 rows × 31 columns</p>\n",
       "</div>"
      ],
      "text/plain": [
       "             dec0_t1        dec1_t1        dec2_t1        dec3_t1  \\\n",
       "0        5926.996460    9517.160397   10490.669754   11739.397447   \n",
       "1        7262.953521    9881.425786   10484.095844   11582.931967   \n",
       "2        3175.602652   16410.410101   17318.083564   18100.570182   \n",
       "3       10583.312696   11800.214416   19149.429505   38129.007942   \n",
       "4        3525.697076    4992.158320    8594.421614   12739.107607   \n",
       "...              ...            ...            ...            ...   \n",
       "24954    6287.305189   10813.578901   32055.993018   54810.770153   \n",
       "24955  182621.279354  188542.388137  195758.276565  205152.743846   \n",
       "24956  153459.446445  164677.874558  166968.298008  170395.328363   \n",
       "24957     393.227987    4410.293282    7057.964229    8840.844906   \n",
       "24958   48436.592801   55450.736931   58987.515054   62919.319456   \n",
       "\n",
       "             dec4_t1        dec5_t1        dec6_t1        dec7_t1  \\\n",
       "0       12710.114387   14200.004984   18369.333804   23551.636196   \n",
       "1       11980.319762   12382.848240   13233.086272   14540.372500   \n",
       "2       18703.325487   19425.074064   20508.666865   21473.258592   \n",
       "3       48643.032990  265946.486504  269465.491783  270040.557559   \n",
       "4       12943.589181   14344.607527   14893.924539   15601.123705   \n",
       "...              ...            ...            ...            ...   \n",
       "24954   60249.233753   62927.018442  150693.251795  152772.573803   \n",
       "24955  215515.903629  225535.151566  289570.743499  299239.698845   \n",
       "24956  224682.321215  234429.822035  243004.661533  245106.787454   \n",
       "24957   12018.527798   18830.796585   36021.399735   47960.402999   \n",
       "24958   71776.373007   78311.529701   81013.976759   82842.659596   \n",
       "\n",
       "             dec8_t1        dec9_t1  ...        dec1_t3        dec2_t3  \\\n",
       "0       26820.764047   72424.051979  ...   10587.157885   12087.533780   \n",
       "1       14931.002438   16951.665190  ...   10495.042351   12010.173469   \n",
       "2       23273.297076   29819.595814  ...   16219.485810   17477.593824   \n",
       "3      272205.027632  295212.062323  ...   12120.032184   24715.833289   \n",
       "4       18868.633878   65003.738033  ...    4047.006622    4897.798012   \n",
       "...              ...            ...  ...            ...            ...   \n",
       "24954  166654.338521  270298.385553  ...    2737.531919    4752.974198   \n",
       "24955  300710.091514  317663.202854  ...  188161.940917  192933.090702   \n",
       "24956  247547.247916  249541.581083  ...  165254.076819  167732.879404   \n",
       "24957   52012.436405   55645.053441  ...    5953.177117   10399.356552   \n",
       "24958   85692.021120   88500.723419  ...   50364.780671   54605.741499   \n",
       "\n",
       "             dec3_t3        dec4_t3        dec5_t3        dec6_t3  \\\n",
       "0       14281.108256   16418.512582   19527.570826   22903.055310   \n",
       "1       13731.304482   14636.590003   15164.543965   16214.730779   \n",
       "2       18562.471192   19231.774609   20167.056824   21084.100234   \n",
       "3       34372.215244   41779.273960  163110.025847  269381.314922   \n",
       "4        7499.723128   11369.332766   12848.154319   14371.173618   \n",
       "...              ...            ...            ...            ...   \n",
       "24954    9962.937503   30404.532625   43382.643225   54568.131804   \n",
       "24955  210415.555825  215753.935711  227658.919358  264174.223402   \n",
       "24956  173986.527127  225338.093684  235199.270492  243670.227650   \n",
       "24957   14108.832545   19444.462964   32898.384324   44093.928723   \n",
       "24958   57970.308718   64912.184081   74874.121419   77723.540551   \n",
       "\n",
       "             dec7_t3        dec8_t3        dec9_t3  prono  \n",
       "0       26032.309771   84585.129694  161593.051391      1  \n",
       "1       16629.792943   17451.973164   18780.431555      1  \n",
       "2       23829.604203   29776.699018   32366.856529      3  \n",
       "3      270341.534649  273309.209320  294197.074279      2  \n",
       "4       15995.910795   64920.090516  298981.550030      0  \n",
       "...              ...            ...            ...    ...  \n",
       "24954   63259.557554  151821.711197  184761.842614      0  \n",
       "24955  298907.842048  301662.437817  308839.364005      3  \n",
       "24956  247017.782075  249062.752814  253843.342943      3  \n",
       "24957   47150.982477   50998.669568   60719.020826      0  \n",
       "24958   80590.824576   82915.812588   86156.507124      3  \n",
       "\n",
       "[3759674 rows x 31 columns]"
      ]
     },
     "execution_count": 8,
     "metadata": {},
     "output_type": "execute_result"
    }
   ],
   "source": [
    "data.iloc[:,np.r_[0:30,60]]"
   ]
  },
  {
   "cell_type": "code",
   "execution_count": 22,
   "metadata": {},
   "outputs": [],
   "source": [
    "feat = np.array(prueb)[:,:30]"
   ]
  },
  {
   "cell_type": "code",
   "execution_count": 10,
   "metadata": {},
   "outputs": [],
   "source": [
    "scaler = preprocessing.MinMaxScaler()\n",
    "feat2=scaler.fit_transform(feat)"
   ]
  },
  {
   "cell_type": "code",
   "execution_count": 23,
   "metadata": {},
   "outputs": [
    {
     "ename": "NameError",
     "evalue": "name 'feat2' is not defined",
     "output_type": "error",
     "traceback": [
      "\u001b[0;31m---------------------------------------------------------------------------\u001b[0m",
      "\u001b[0;31mNameError\u001b[0m                                 Traceback (most recent call last)",
      "\u001b[0;32m<ipython-input-23-21b7566e0673>\u001b[0m in \u001b[0;36m<module>\u001b[0;34m\u001b[0m\n\u001b[0;32m----> 1\u001b[0;31m \u001b[0mfeatures\u001b[0m \u001b[0;34m=\u001b[0m \u001b[0mfeat2\u001b[0m\u001b[0;34m.\u001b[0m\u001b[0mreshape\u001b[0m\u001b[0;34m(\u001b[0m\u001b[0;34m(\u001b[0m\u001b[0mlen\u001b[0m\u001b[0;34m(\u001b[0m\u001b[0mprueb\u001b[0m\u001b[0;34m)\u001b[0m\u001b[0;34m,\u001b[0m\u001b[0;36m3\u001b[0m\u001b[0;34m,\u001b[0m\u001b[0;36m10\u001b[0m\u001b[0;34m)\u001b[0m\u001b[0;34m)\u001b[0m\u001b[0;34m\u001b[0m\u001b[0;34m\u001b[0m\u001b[0m\n\u001b[0m",
      "\u001b[0;31mNameError\u001b[0m: name 'feat2' is not defined"
     ]
    }
   ],
   "source": [
    "#features = feat2.reshape((len(prueb),3,10))"
   ]
  },
  {
   "cell_type": "code",
   "execution_count": 24,
   "metadata": {},
   "outputs": [],
   "source": [
    "features = feat.reshape((len(prueb),3,10))"
   ]
  },
  {
   "cell_type": "code",
   "execution_count": 12,
   "metadata": {},
   "outputs": [],
   "source": [
    "resul = np.array(prueb)[:,30]"
   ]
  },
  {
   "cell_type": "code",
   "execution_count": 13,
   "metadata": {},
   "outputs": [
    {
     "data": {
      "text/plain": [
       "(3759674, 3, 10)"
      ]
     },
     "execution_count": 13,
     "metadata": {},
     "output_type": "execute_result"
    }
   ],
   "source": [
    "features.shape"
   ]
  },
  {
   "cell_type": "code",
   "execution_count": 14,
   "metadata": {},
   "outputs": [
    {
     "data": {
      "text/plain": [
       "array([[0.00980024, 0.01469578, 0.01372492, 0.01514417, 0.01591004,\n",
       "        0.01736157, 0.022425  , 0.02869717, 0.03260133, 0.0879205 ],\n",
       "       [0.00980052, 0.0165552 , 0.01520179, 0.01636076, 0.01791255,\n",
       "        0.01974491, 0.0258869 , 0.02898682, 0.04369142, 0.19426508],\n",
       "       [0.00980157, 0.01706141, 0.01579245, 0.01821313, 0.02031054,\n",
       "        0.02387621, 0.02787892, 0.03162214, 0.10289653, 0.19607357]])"
      ]
     },
     "execution_count": 14,
     "metadata": {},
     "output_type": "execute_result"
    }
   ],
   "source": [
    "features[0]"
   ]
  },
  {
   "cell_type": "code",
   "execution_count": null,
   "metadata": {},
   "outputs": [],
   "source": []
  },
  {
   "cell_type": "code",
   "execution_count": null,
   "metadata": {},
   "outputs": [],
   "source": []
  },
  {
   "cell_type": "code",
   "execution_count": 80,
   "metadata": {},
   "outputs": [
    {
     "data": {
      "text/plain": [
       "16897"
      ]
     },
     "execution_count": 80,
     "metadata": {},
     "output_type": "execute_result"
    }
   ],
   "source": [
    "len(d2)"
   ]
  },
  {
   "cell_type": "code",
   "execution_count": 15,
   "metadata": {},
   "outputs": [],
   "source": [
    "def separar_secuencia(secuencia,pasos_tiempo):\n",
    "    x, y = list(), list()\n",
    "    for i in range(len(secuencia)):\n",
    "        final_ix = i +pasos_tiempo\n",
    "        if final_ix > len(secuencia)-1:\n",
    "            break\n",
    "        #juntamos la serie y resultado del siguiente paso\n",
    "        seq_x, seq_y = secuencia[i:final_ix,:-1], secuencia[final_ix-1,-1]\n",
    "        x.append(seq_x)\n",
    "        y.append(seq_y)\n",
    "        \n",
    "    return np.array(x), np.array(y)"
   ]
  },
  {
   "cell_type": "code",
   "execution_count": 16,
   "metadata": {},
   "outputs": [
    {
     "data": {
      "text/plain": [
       "Index(['dec0_t1', 'dec1_t1', 'dec2_t1', 'dec3_t1', 'dec4_t1', 'dec5_t1',\n",
       "       'dec6_t1', 'dec7_t1', 'dec8_t1', 'dec9_t1', 'dec0_t2', 'dec1_t2',\n",
       "       'dec2_t2', 'dec3_t2', 'dec4_t2', 'dec5_t2', 'dec6_t2', 'dec7_t2',\n",
       "       'dec8_t2', 'dec9_t2', 'dec0_t3', 'dec1_t3', 'dec2_t3', 'dec3_t3',\n",
       "       'dec4_t3', 'dec5_t3', 'dec6_t3', 'dec7_t3', 'dec8_t3', 'dec9_t3'],\n",
       "      dtype='object')"
      ]
     },
     "execution_count": 16,
     "metadata": {},
     "output_type": "execute_result"
    }
   ],
   "source": [
    "data.iloc[0,:30].index"
   ]
  },
  {
   "cell_type": "code",
   "execution_count": null,
   "metadata": {},
   "outputs": [],
   "source": []
  },
  {
   "cell_type": "code",
   "execution_count": 14,
   "metadata": {},
   "outputs": [],
   "source": [
    "tserie=3"
   ]
  },
  {
   "cell_type": "code",
   "execution_count": 18,
   "metadata": {},
   "outputs": [],
   "source": [
    "x, y = separar_secuencia(prueb,tserie)"
   ]
  },
  {
   "cell_type": "code",
   "execution_count": 24,
   "metadata": {},
   "outputs": [],
   "source": [
    "X_train2, X_test2, y_train2, y_test2 = train_test_split(features, resul, test_size=0.2)"
   ]
  },
  {
   "cell_type": "code",
   "execution_count": 23,
   "metadata": {},
   "outputs": [],
   "source": [
    "y_train2= tf.keras.utils.to_categorical(y_train2,num_classes=4)\n",
    "y_test2 = tf.keras.utils.to_categorical(y_test2,num_classes=4)"
   ]
  },
  {
   "cell_type": "code",
   "execution_count": 22,
   "metadata": {},
   "outputs": [],
   "source": [
    "feat_num=len(X_train2[0][0])"
   ]
  },
  {
   "cell_type": "code",
   "execution_count": 12,
   "metadata": {},
   "outputs": [],
   "source": [
    "def modelo_lstm(pasos_tiempo3,feat_num): \n",
    "    model3 = keras.Sequential()\n",
    "    model3.add(layers.LSTM(1024,\n",
    "                   return_sequences = True,\n",
    "                   input_shape = (pasos_tiempo3,feat_num)))\n",
    "    model3.add(layers.Dropout(0.5))\n",
    "    model3.add(layers.LSTM(256))\n",
    "    model3.add(layers.Dropout(0.5))\n",
    "    model3.add(layers.Dense(256,activation = 'relu'))\n",
    "    model3.add(layers.Dropout(0.3))\n",
    "    model3.add(layers.Dense(64,activation = 'relu'))\n",
    "    model3.add(layers.Dropout(0.3))\n",
    "    model3.add(layers.Dense(4, activation='softmax'))\n",
    "    model3.compile(loss='categorical_crossentropy',\n",
    "                  optimizer=tf.keras.optimizers.Adam(),\n",
    "                  metrics=['accuracy'])\n",
    "    return model3"
   ]
  },
  {
   "cell_type": "code",
   "execution_count": 18,
   "metadata": {},
   "outputs": [],
   "source": [
    "feat_num=30"
   ]
  },
  {
   "cell_type": "code",
   "execution_count": 19,
   "metadata": {},
   "outputs": [],
   "source": [
    "model2 = modelo_lstm(tserie,feat_num)"
   ]
  },
  {
   "cell_type": "code",
   "execution_count": 20,
   "metadata": {},
   "outputs": [
    {
     "name": "stdout",
     "output_type": "stream",
     "text": [
      "Model: \"sequential\"\n",
      "_________________________________________________________________\n",
      "Layer (type)                 Output Shape              Param #   \n",
      "=================================================================\n",
      "lstm (LSTM)                  (None, 3, 1024)           4321280   \n",
      "_________________________________________________________________\n",
      "dropout (Dropout)            (None, 3, 1024)           0         \n",
      "_________________________________________________________________\n",
      "lstm_1 (LSTM)                (None, 256)               1311744   \n",
      "_________________________________________________________________\n",
      "dropout_1 (Dropout)          (None, 256)               0         \n",
      "_________________________________________________________________\n",
      "dense (Dense)                (None, 256)               65792     \n",
      "_________________________________________________________________\n",
      "dropout_2 (Dropout)          (None, 256)               0         \n",
      "_________________________________________________________________\n",
      "dense_1 (Dense)              (None, 64)                16448     \n",
      "_________________________________________________________________\n",
      "dropout_3 (Dropout)          (None, 64)                0         \n",
      "_________________________________________________________________\n",
      "dense_2 (Dense)              (None, 4)                 260       \n",
      "=================================================================\n",
      "Total params: 5,715,524\n",
      "Trainable params: 5,715,524\n",
      "Non-trainable params: 0\n",
      "_________________________________________________________________\n"
     ]
    }
   ],
   "source": [
    "model2.summary()"
   ]
  },
  {
   "cell_type": "code",
   "execution_count": 43,
   "metadata": {},
   "outputs": [
    {
     "data": {
      "text/plain": [
       "(29071,)"
      ]
     },
     "execution_count": 43,
     "metadata": {},
     "output_type": "execute_result"
    }
   ],
   "source": [
    "y.shape"
   ]
  },
  {
   "cell_type": "code",
   "execution_count": 26,
   "metadata": {},
   "outputs": [
    {
     "name": "stdout",
     "output_type": "stream",
     "text": [
      "Epoch 1/10\n",
      "38245/38245 [==============================] - 5329s 139ms/step - loss: 0.7515 - accuracy: 0.6962 - val_loss: 0.7246 - val_accuracy: 0.7033\n",
      "Epoch 2/10\n",
      "38245/38245 [==============================] - 5440s 142ms/step - loss: 0.7374 - accuracy: 0.7003 - val_loss: 0.7242 - val_accuracy: 0.7042\n",
      "Epoch 3/10\n",
      "38245/38245 [==============================] - 5149s 135ms/step - loss: 0.7335 - accuracy: 0.7019 - val_loss: 0.7227 - val_accuracy: 0.7060\n",
      "Epoch 4/10\n",
      "38245/38245 [==============================] - 4950s 129ms/step - loss: 0.7309 - accuracy: 0.7029 - val_loss: 0.7196 - val_accuracy: 0.7079\n",
      "Epoch 5/10\n",
      "38245/38245 [==============================] - 4694s 123ms/step - loss: 0.7290 - accuracy: 0.7033 - val_loss: 0.7159 - val_accuracy: 0.7083\n",
      "Epoch 6/10\n",
      "38245/38245 [==============================] - 4750s 124ms/step - loss: 0.7275 - accuracy: 0.7038 - val_loss: 0.7177 - val_accuracy: 0.7072\n",
      "Epoch 7/10\n",
      "38245/38245 [==============================] - 5043s 132ms/step - loss: 0.7265 - accuracy: 0.7045 - val_loss: 0.7134 - val_accuracy: 0.7089\n",
      "Epoch 8/10\n",
      "38245/38245 [==============================] - 4664s 122ms/step - loss: 0.7257 - accuracy: 0.7043 - val_loss: 0.7166 - val_accuracy: 0.7076\n",
      "Epoch 9/10\n",
      "38245/38245 [==============================] - 4663s 122ms/step - loss: 0.7252 - accuracy: 0.7048 - val_loss: 0.7160 - val_accuracy: 0.7059\n",
      "Epoch 10/10\n",
      "38245/38245 [==============================] - 5294s 138ms/step - loss: 0.7245 - accuracy: 0.7048 - val_loss: 0.7129 - val_accuracy: 0.7089\n"
     ]
    },
    {
     "data": {
      "text/plain": [
       "<tensorflow.python.keras.callbacks.History at 0x7f340b86d0a0>"
      ]
     },
     "execution_count": 26,
     "metadata": {},
     "output_type": "execute_result"
    }
   ],
   "source": [
    "model2.fit(X_train2, y_train2, validation_split = 0.2,batch_size=60, epochs=10)"
   ]
  },
  {
   "cell_type": "code",
   "execution_count": 28,
   "metadata": {},
   "outputs": [
    {
     "name": "stdout",
     "output_type": "stream",
     "text": [
      "22410/22410 [==============================] - 478s 21ms/step - loss: 0.7152 - accuracy: 0.7076\n"
     ]
    },
    {
     "data": {
      "text/plain": [
       "[0.7152378559112549, 0.7075746655464172]"
      ]
     },
     "execution_count": 28,
     "metadata": {},
     "output_type": "execute_result"
    }
   ],
   "source": [
    "model2.evaluate(X_test2, y_test2)"
   ]
  },
  {
   "cell_type": "code",
   "execution_count": 20,
   "metadata": {},
   "outputs": [],
   "source": [
    "model2 = tf.keras.models.load_model('lstm.h5')"
   ]
  },
  {
   "cell_type": "code",
   "execution_count": 28,
   "metadata": {},
   "outputs": [],
   "source": [
    "predictions = model2.predict_classes(X_test2)"
   ]
  },
  {
   "cell_type": "code",
   "execution_count": 26,
   "metadata": {},
   "outputs": [],
   "source": [
    "%matplotlib inline\n",
    "from sklearn.metrics import confusion_matrix\n",
    "import itertools\n",
    "import matplotlib.pyplot as plt"
   ]
  },
  {
   "cell_type": "code",
   "execution_count": 30,
   "metadata": {},
   "outputs": [
    {
     "data": {
      "text/plain": [
       "751935"
      ]
     },
     "execution_count": 30,
     "metadata": {},
     "output_type": "execute_result"
    }
   ],
   "source": [
    "len(predictions)"
   ]
  },
  {
   "cell_type": "code",
   "execution_count": 45,
   "metadata": {},
   "outputs": [],
   "source": [
    "cm = confusion_matrix(y_true=y_test2, y_pred=predictions)"
   ]
  },
  {
   "cell_type": "code",
   "execution_count": 49,
   "metadata": {},
   "outputs": [
    {
     "data": {
      "text/plain": [
       "array([[ 94425,  17367,   8040,  10275],\n",
       "       [ 41284,  26503,  16694,  19873],\n",
       "       [ 14266,  17987,  26551,  40062],\n",
       "       [  7365,   8706,  16871, 385666]])"
      ]
     },
     "execution_count": 49,
     "metadata": {},
     "output_type": "execute_result"
    }
   ],
   "source": [
    "cm"
   ]
  },
  {
   "cell_type": "code",
   "execution_count": 58,
   "metadata": {},
   "outputs": [],
   "source": [
    "cm2 = np.round(cm*100 / cm.astype(np.float).sum(axis=1, keepdims=True))"
   ]
  },
  {
   "cell_type": "code",
   "execution_count": null,
   "metadata": {},
   "outputs": [],
   "source": []
  },
  {
   "cell_type": "code",
   "execution_count": null,
   "metadata": {},
   "outputs": [],
   "source": []
  },
  {
   "cell_type": "code",
   "execution_count": 60,
   "metadata": {},
   "outputs": [],
   "source": [
    "def plot_confusion_matrix(cm, classes,\n",
    "                        normalize=False,\n",
    "                        title='Matriz de Confusion',\n",
    "                        cmap=plt.cm.Blues):\n",
    "    \"\"\"\n",
    "    This function prints and plots the confusion matrix.\n",
    "    Normalization can be applied by setting `normalize=True`.\n",
    "    \"\"\"\n",
    "    plt.imshow(cm, interpolation='nearest', cmap=cmap)\n",
    "    plt.title(title)\n",
    "    plt.colorbar()\n",
    "    tick_marks = np.arange(len(classes))\n",
    "    plt.xticks(tick_marks, classes, rotation=45)\n",
    "    plt.yticks(tick_marks, classes)\n",
    "\n",
    "    if normalize:\n",
    "        cm = cm.astype('float') / cm.sum(axis=1)[:, np.newaxis]\n",
    "        print(\"Normalized confusion matrix\")\n",
    "    else:\n",
    "        print('Confusion matrix, without normalization')\n",
    "\n",
    "    print(cm)\n",
    "\n",
    "    thresh = cm.max() / 2.\n",
    "    for i, j in itertools.product(range(cm.shape[0]), range(cm.shape[1])):\n",
    "        plt.text(j, i, cm[i, j],\n",
    "            horizontalalignment=\"center\",\n",
    "            color=\"white\" if cm[i, j] > thresh else \"black\")\n",
    "\n",
    "    plt.tight_layout()\n",
    "    plt.ylabel('True label')\n",
    "    plt.xlabel('Predicted label')"
   ]
  },
  {
   "cell_type": "code",
   "execution_count": 61,
   "metadata": {},
   "outputs": [],
   "source": [
    "cm_plot_labels = ['Rojo','Amarillo','Verde','Sin Riesgo']"
   ]
  },
  {
   "cell_type": "code",
   "execution_count": 62,
   "metadata": {},
   "outputs": [
    {
     "name": "stdout",
     "output_type": "stream",
     "text": [
      "Confusion matrix, without normalization\n",
      "[[73. 13.  6.  8.]\n",
      " [40. 25. 16. 19.]\n",
      " [14. 18. 27. 41.]\n",
      " [ 2.  2.  4. 92.]]\n"
     ]
    },
    {
     "data": {
      "image/png": "[encoded data removed]",
      "text/plain": [
       "<Figure size 432x288 with 2 Axes>"
      ]
     },
     "metadata": {
      "needs_background": "light"
     },
     "output_type": "display_data"
    }
   ],
   "source": [
    "plot_confusion_matrix(cm=cm2, classes=cm_plot_labels, title='Confusion Matrix')"
   ]
  },
  {
   "cell_type": "code",
   "execution_count": 27,
   "metadata": {},
   "outputs": [],
   "source": [
    "model2.save('./lstm.h5')"
   ]
  },
  {
   "cell_type": "code",
   "execution_count": null,
   "metadata": {},
   "outputs": [],
   "source": []
  }
 ],
 "metadata": {
  "kernelspec": {
   "display_name": "Python 3",
   "language": "python",
   "name": "python3"
  },
  "language_info": {
   "codemirror_mode": {
    "name": "ipython",
    "version": 3
   },
   "file_extension": ".py",
   "mimetype": "text/x-python",
   "name": "python",
   "nbconvert_exporter": "python",
   "pygments_lexer": "ipython3",
   "version": "3.8.3"
  }
 },
 "nbformat": 4,
 "nbformat_minor": 4
}
